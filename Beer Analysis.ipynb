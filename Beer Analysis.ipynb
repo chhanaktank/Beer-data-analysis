{
  "nbformat": 4,
  "nbformat_minor": 0,
  "metadata": {
    "colab": {
      "name": "Beer Analysis.ipynb",
      "provenance": []
    },
    "kernelspec": {
      "name": "python3",
      "display_name": "Python 3"
    },
    "language_info": {
      "name": "python"
    }
  },
  "cells": [
    {
      "cell_type": "markdown",
      "source": [
        "**Technical Exercise for Data Scientist Candidates**\n",
        "\n",
        "CHHANAK TANK\n",
        "\n",
        "(M) +91 9764005626\n",
        "\n",
        "chhanaktank346@gmail.com"
      ],
      "metadata": {
        "id": "BSGAybH_jrbi"
      }
    },
    {
      "cell_type": "markdown",
      "source": [
        "---\n",
        "---\n",
        "---"
      ],
      "metadata": {
        "id": "9s-BxUTAp0JA"
      }
    },
    {
      "cell_type": "code",
      "execution_count": 72,
      "metadata": {
        "id": "jVLl3U4EzUuT"
      },
      "outputs": [],
      "source": [
        "#importing libraries\n",
        "import pandas as pd\n",
        "import numpy as np"
      ]
    },
    {
      "cell_type": "markdown",
      "source": [
        "### Improting and exploring Dataset"
      ],
      "metadata": {
        "id": "l2ibqlU2MjBD"
      }
    },
    {
      "cell_type": "code",
      "source": [
        "data=pd.read_csv(r\"/content/drive/MyDrive/BeerDataScienceProject.csv\", encoding='latin-1')"
      ],
      "metadata": {
        "id": "c_Pfinoe3iD-"
      },
      "execution_count": 73,
      "outputs": []
    },
    {
      "cell_type": "markdown",
      "source": [
        "Overview of Dataset"
      ],
      "metadata": {
        "id": "ZcwmuaxyMlAf"
      }
    },
    {
      "cell_type": "code",
      "source": [
        "data.head()"
      ],
      "metadata": {
        "colab": {
          "base_uri": "https://localhost:8080/",
          "height": 565
        },
        "id": "y5omXGCB5Crm",
        "outputId": "f91c6278-09f2-4055-e199-751f3a9f0c54"
      },
      "execution_count": 74,
      "outputs": [
        {
          "output_type": "execute_result",
          "data": {
            "text/html": [
              "\n",
              "  <div id=\"df-d57b06b7-ab1b-418d-9483-aaf8b94f862f\">\n",
              "    <div class=\"colab-df-container\">\n",
              "      <div>\n",
              "<style scoped>\n",
              "    .dataframe tbody tr th:only-of-type {\n",
              "        vertical-align: middle;\n",
              "    }\n",
              "\n",
              "    .dataframe tbody tr th {\n",
              "        vertical-align: top;\n",
              "    }\n",
              "\n",
              "    .dataframe thead th {\n",
              "        text-align: right;\n",
              "    }\n",
              "</style>\n",
              "<table border=\"1\" class=\"dataframe\">\n",
              "  <thead>\n",
              "    <tr style=\"text-align: right;\">\n",
              "      <th></th>\n",
              "      <th>beer_ABV</th>\n",
              "      <th>beer_beerId</th>\n",
              "      <th>beer_brewerId</th>\n",
              "      <th>beer_name</th>\n",
              "      <th>beer_style</th>\n",
              "      <th>review_appearance</th>\n",
              "      <th>review_palette</th>\n",
              "      <th>review_overall</th>\n",
              "      <th>review_taste</th>\n",
              "      <th>review_profileName</th>\n",
              "      <th>review_aroma</th>\n",
              "      <th>review_text</th>\n",
              "      <th>review_time</th>\n",
              "    </tr>\n",
              "  </thead>\n",
              "  <tbody>\n",
              "    <tr>\n",
              "      <th>0</th>\n",
              "      <td>5.0</td>\n",
              "      <td>47986</td>\n",
              "      <td>10325</td>\n",
              "      <td>Sausa Weizen</td>\n",
              "      <td>Hefeweizen</td>\n",
              "      <td>2.5</td>\n",
              "      <td>2.0</td>\n",
              "      <td>1.5</td>\n",
              "      <td>1.5</td>\n",
              "      <td>stcules</td>\n",
              "      <td>1.5</td>\n",
              "      <td>A lot of foam. But a lot. In the smell some ba...</td>\n",
              "      <td>1234817823</td>\n",
              "    </tr>\n",
              "    <tr>\n",
              "      <th>1</th>\n",
              "      <td>6.2</td>\n",
              "      <td>48213</td>\n",
              "      <td>10325</td>\n",
              "      <td>Red Moon</td>\n",
              "      <td>English Strong Ale</td>\n",
              "      <td>3.0</td>\n",
              "      <td>2.5</td>\n",
              "      <td>3.0</td>\n",
              "      <td>3.0</td>\n",
              "      <td>stcules</td>\n",
              "      <td>3.0</td>\n",
              "      <td>Dark red color, light beige foam, average. In ...</td>\n",
              "      <td>1235915097</td>\n",
              "    </tr>\n",
              "    <tr>\n",
              "      <th>2</th>\n",
              "      <td>6.5</td>\n",
              "      <td>48215</td>\n",
              "      <td>10325</td>\n",
              "      <td>Black Horse Black Beer</td>\n",
              "      <td>Foreign / Export Stout</td>\n",
              "      <td>3.0</td>\n",
              "      <td>2.5</td>\n",
              "      <td>3.0</td>\n",
              "      <td>3.0</td>\n",
              "      <td>stcules</td>\n",
              "      <td>3.0</td>\n",
              "      <td>Almost totally black. Beige foam, quite compac...</td>\n",
              "      <td>1235916604</td>\n",
              "    </tr>\n",
              "    <tr>\n",
              "      <th>3</th>\n",
              "      <td>5.0</td>\n",
              "      <td>47969</td>\n",
              "      <td>10325</td>\n",
              "      <td>Sausa Pils</td>\n",
              "      <td>German Pilsener</td>\n",
              "      <td>3.5</td>\n",
              "      <td>3.0</td>\n",
              "      <td>3.0</td>\n",
              "      <td>2.5</td>\n",
              "      <td>stcules</td>\n",
              "      <td>3.0</td>\n",
              "      <td>Golden yellow color. White, compact foam, quit...</td>\n",
              "      <td>1234725145</td>\n",
              "    </tr>\n",
              "    <tr>\n",
              "      <th>4</th>\n",
              "      <td>7.7</td>\n",
              "      <td>64883</td>\n",
              "      <td>1075</td>\n",
              "      <td>Cauldron DIPA</td>\n",
              "      <td>American Double / Imperial IPA</td>\n",
              "      <td>4.0</td>\n",
              "      <td>4.5</td>\n",
              "      <td>4.0</td>\n",
              "      <td>4.0</td>\n",
              "      <td>johnmichaelsen</td>\n",
              "      <td>4.5</td>\n",
              "      <td>According to the website, the style for the Ca...</td>\n",
              "      <td>1293735206</td>\n",
              "    </tr>\n",
              "  </tbody>\n",
              "</table>\n",
              "</div>\n",
              "      <button class=\"colab-df-convert\" onclick=\"convertToInteractive('df-d57b06b7-ab1b-418d-9483-aaf8b94f862f')\"\n",
              "              title=\"Convert this dataframe to an interactive table.\"\n",
              "              style=\"display:none;\">\n",
              "        \n",
              "  <svg xmlns=\"http://www.w3.org/2000/svg\" height=\"24px\"viewBox=\"0 0 24 24\"\n",
              "       width=\"24px\">\n",
              "    <path d=\"M0 0h24v24H0V0z\" fill=\"none\"/>\n",
              "    <path d=\"M18.56 5.44l.94 2.06.94-2.06 2.06-.94-2.06-.94-.94-2.06-.94 2.06-2.06.94zm-11 1L8.5 8.5l.94-2.06 2.06-.94-2.06-.94L8.5 2.5l-.94 2.06-2.06.94zm10 10l.94 2.06.94-2.06 2.06-.94-2.06-.94-.94-2.06-.94 2.06-2.06.94z\"/><path d=\"M17.41 7.96l-1.37-1.37c-.4-.4-.92-.59-1.43-.59-.52 0-1.04.2-1.43.59L10.3 9.45l-7.72 7.72c-.78.78-.78 2.05 0 2.83L4 21.41c.39.39.9.59 1.41.59.51 0 1.02-.2 1.41-.59l7.78-7.78 2.81-2.81c.8-.78.8-2.07 0-2.86zM5.41 20L4 18.59l7.72-7.72 1.47 1.35L5.41 20z\"/>\n",
              "  </svg>\n",
              "      </button>\n",
              "      \n",
              "  <style>\n",
              "    .colab-df-container {\n",
              "      display:flex;\n",
              "      flex-wrap:wrap;\n",
              "      gap: 12px;\n",
              "    }\n",
              "\n",
              "    .colab-df-convert {\n",
              "      background-color: #E8F0FE;\n",
              "      border: none;\n",
              "      border-radius: 50%;\n",
              "      cursor: pointer;\n",
              "      display: none;\n",
              "      fill: #1967D2;\n",
              "      height: 32px;\n",
              "      padding: 0 0 0 0;\n",
              "      width: 32px;\n",
              "    }\n",
              "\n",
              "    .colab-df-convert:hover {\n",
              "      background-color: #E2EBFA;\n",
              "      box-shadow: 0px 1px 2px rgba(60, 64, 67, 0.3), 0px 1px 3px 1px rgba(60, 64, 67, 0.15);\n",
              "      fill: #174EA6;\n",
              "    }\n",
              "\n",
              "    [theme=dark] .colab-df-convert {\n",
              "      background-color: #3B4455;\n",
              "      fill: #D2E3FC;\n",
              "    }\n",
              "\n",
              "    [theme=dark] .colab-df-convert:hover {\n",
              "      background-color: #434B5C;\n",
              "      box-shadow: 0px 1px 3px 1px rgba(0, 0, 0, 0.15);\n",
              "      filter: drop-shadow(0px 1px 2px rgba(0, 0, 0, 0.3));\n",
              "      fill: #FFFFFF;\n",
              "    }\n",
              "  </style>\n",
              "\n",
              "      <script>\n",
              "        const buttonEl =\n",
              "          document.querySelector('#df-d57b06b7-ab1b-418d-9483-aaf8b94f862f button.colab-df-convert');\n",
              "        buttonEl.style.display =\n",
              "          google.colab.kernel.accessAllowed ? 'block' : 'none';\n",
              "\n",
              "        async function convertToInteractive(key) {\n",
              "          const element = document.querySelector('#df-d57b06b7-ab1b-418d-9483-aaf8b94f862f');\n",
              "          const dataTable =\n",
              "            await google.colab.kernel.invokeFunction('convertToInteractive',\n",
              "                                                     [key], {});\n",
              "          if (!dataTable) return;\n",
              "\n",
              "          const docLinkHtml = 'Like what you see? Visit the ' +\n",
              "            '<a target=\"_blank\" href=https://colab.research.google.com/notebooks/data_table.ipynb>data table notebook</a>'\n",
              "            + ' to learn more about interactive tables.';\n",
              "          element.innerHTML = '';\n",
              "          dataTable['output_type'] = 'display_data';\n",
              "          await google.colab.output.renderOutput(dataTable, element);\n",
              "          const docLink = document.createElement('div');\n",
              "          docLink.innerHTML = docLinkHtml;\n",
              "          element.appendChild(docLink);\n",
              "        }\n",
              "      </script>\n",
              "    </div>\n",
              "  </div>\n",
              "  "
            ],
            "text/plain": [
              "   beer_ABV  ...  review_time\n",
              "0       5.0  ...   1234817823\n",
              "1       6.2  ...   1235915097\n",
              "2       6.5  ...   1235916604\n",
              "3       5.0  ...   1234725145\n",
              "4       7.7  ...   1293735206\n",
              "\n",
              "[5 rows x 13 columns]"
            ]
          },
          "metadata": {},
          "execution_count": 74
        }
      ]
    },
    {
      "cell_type": "markdown",
      "source": [
        "---\n",
        "---\n",
        "---\n"
      ],
      "metadata": {
        "id": "Zv4_ldGpp5Kj"
      }
    },
    {
      "cell_type": "markdown",
      "source": [
        "**Exploratory Analysis**\n",
        "\n",
        "Things to Look For:\n",
        "1. Types of data\n",
        "2. Missing data\n",
        "3. Duplicate data\n",
        "4. Unsuitable data"
      ],
      "metadata": {
        "id": "9fYQCwpbnEzE"
      }
    },
    {
      "cell_type": "code",
      "source": [
        "data.shape"
      ],
      "metadata": {
        "colab": {
          "base_uri": "https://localhost:8080/"
        },
        "id": "OSuyKJOK5EOk",
        "outputId": "ef9f66a2-3750-4f8a-b222-0717b9457564"
      },
      "execution_count": 75,
      "outputs": [
        {
          "output_type": "execute_result",
          "data": {
            "text/plain": [
              "(528870, 13)"
            ]
          },
          "metadata": {},
          "execution_count": 75
        }
      ]
    },
    {
      "cell_type": "markdown",
      "source": [
        "**1. Types of Data**"
      ],
      "metadata": {
        "id": "Z3JWJQGqnXmQ"
      }
    },
    {
      "cell_type": "code",
      "source": [
        "data.info()"
      ],
      "metadata": {
        "colab": {
          "base_uri": "https://localhost:8080/"
        },
        "id": "4ekGfpMC5XRq",
        "outputId": "06ed7d58-c165-46ff-e833-5cb03f1a6f09"
      },
      "execution_count": 76,
      "outputs": [
        {
          "output_type": "stream",
          "name": "stdout",
          "text": [
            "<class 'pandas.core.frame.DataFrame'>\n",
            "RangeIndex: 528870 entries, 0 to 528869\n",
            "Data columns (total 13 columns):\n",
            " #   Column              Non-Null Count   Dtype  \n",
            "---  ------              --------------   -----  \n",
            " 0   beer_ABV            508590 non-null  float64\n",
            " 1   beer_beerId         528870 non-null  int64  \n",
            " 2   beer_brewerId       528870 non-null  int64  \n",
            " 3   beer_name           528870 non-null  object \n",
            " 4   beer_style          528870 non-null  object \n",
            " 5   review_appearance   528870 non-null  float64\n",
            " 6   review_palette      528870 non-null  float64\n",
            " 7   review_overall      528870 non-null  float64\n",
            " 8   review_taste        528870 non-null  float64\n",
            " 9   review_profileName  528755 non-null  object \n",
            " 10  review_aroma        528870 non-null  float64\n",
            " 11  review_text         528751 non-null  object \n",
            " 12  review_time         528870 non-null  int64  \n",
            "dtypes: float64(6), int64(3), object(4)\n",
            "memory usage: 52.5+ MB\n"
          ]
        }
      ]
    },
    {
      "cell_type": "code",
      "source": [
        "data.describe(include='all')"
      ],
      "metadata": {
        "colab": {
          "base_uri": "https://localhost:8080/",
          "height": 510
        },
        "id": "vsV7egcd5Mbu",
        "outputId": "836ecb13-ef09-422d-a764-bbe580105d7d"
      },
      "execution_count": 77,
      "outputs": [
        {
          "output_type": "execute_result",
          "data": {
            "text/html": [
              "\n",
              "  <div id=\"df-583c59f1-7184-43bf-a66e-e504eeb9b7a0\">\n",
              "    <div class=\"colab-df-container\">\n",
              "      <div>\n",
              "<style scoped>\n",
              "    .dataframe tbody tr th:only-of-type {\n",
              "        vertical-align: middle;\n",
              "    }\n",
              "\n",
              "    .dataframe tbody tr th {\n",
              "        vertical-align: top;\n",
              "    }\n",
              "\n",
              "    .dataframe thead th {\n",
              "        text-align: right;\n",
              "    }\n",
              "</style>\n",
              "<table border=\"1\" class=\"dataframe\">\n",
              "  <thead>\n",
              "    <tr style=\"text-align: right;\">\n",
              "      <th></th>\n",
              "      <th>beer_ABV</th>\n",
              "      <th>beer_beerId</th>\n",
              "      <th>beer_brewerId</th>\n",
              "      <th>beer_name</th>\n",
              "      <th>beer_style</th>\n",
              "      <th>review_appearance</th>\n",
              "      <th>review_palette</th>\n",
              "      <th>review_overall</th>\n",
              "      <th>review_taste</th>\n",
              "      <th>review_profileName</th>\n",
              "      <th>review_aroma</th>\n",
              "      <th>review_text</th>\n",
              "      <th>review_time</th>\n",
              "    </tr>\n",
              "  </thead>\n",
              "  <tbody>\n",
              "    <tr>\n",
              "      <th>count</th>\n",
              "      <td>508590.000000</td>\n",
              "      <td>528870.000000</td>\n",
              "      <td>528870.000000</td>\n",
              "      <td>528870</td>\n",
              "      <td>528870</td>\n",
              "      <td>528870.000000</td>\n",
              "      <td>528870.000000</td>\n",
              "      <td>528870.000000</td>\n",
              "      <td>528870.000000</td>\n",
              "      <td>528755</td>\n",
              "      <td>528870.000000</td>\n",
              "      <td>528751</td>\n",
              "      <td>5.288700e+05</td>\n",
              "    </tr>\n",
              "    <tr>\n",
              "      <th>unique</th>\n",
              "      <td>NaN</td>\n",
              "      <td>NaN</td>\n",
              "      <td>NaN</td>\n",
              "      <td>18339</td>\n",
              "      <td>104</td>\n",
              "      <td>NaN</td>\n",
              "      <td>NaN</td>\n",
              "      <td>NaN</td>\n",
              "      <td>NaN</td>\n",
              "      <td>22800</td>\n",
              "      <td>NaN</td>\n",
              "      <td>528371</td>\n",
              "      <td>NaN</td>\n",
              "    </tr>\n",
              "    <tr>\n",
              "      <th>top</th>\n",
              "      <td>NaN</td>\n",
              "      <td>NaN</td>\n",
              "      <td>NaN</td>\n",
              "      <td>Sierra Nevada Celebration Ale</td>\n",
              "      <td>American IPA</td>\n",
              "      <td>NaN</td>\n",
              "      <td>NaN</td>\n",
              "      <td>NaN</td>\n",
              "      <td>NaN</td>\n",
              "      <td>northyorksammy</td>\n",
              "      <td>NaN</td>\n",
              "      <td>#NAME?</td>\n",
              "      <td>NaN</td>\n",
              "    </tr>\n",
              "    <tr>\n",
              "      <th>freq</th>\n",
              "      <td>NaN</td>\n",
              "      <td>NaN</td>\n",
              "      <td>NaN</td>\n",
              "      <td>3000</td>\n",
              "      <td>43369</td>\n",
              "      <td>NaN</td>\n",
              "      <td>NaN</td>\n",
              "      <td>NaN</td>\n",
              "      <td>NaN</td>\n",
              "      <td>1858</td>\n",
              "      <td>NaN</td>\n",
              "      <td>92</td>\n",
              "      <td>NaN</td>\n",
              "    </tr>\n",
              "    <tr>\n",
              "      <th>mean</th>\n",
              "      <td>7.017442</td>\n",
              "      <td>22098.466016</td>\n",
              "      <td>2598.423429</td>\n",
              "      <td>NaN</td>\n",
              "      <td>NaN</td>\n",
              "      <td>3.864522</td>\n",
              "      <td>3.758926</td>\n",
              "      <td>3.833197</td>\n",
              "      <td>3.765993</td>\n",
              "      <td>NaN</td>\n",
              "      <td>3.817350</td>\n",
              "      <td>NaN</td>\n",
              "      <td>1.224885e+09</td>\n",
              "    </tr>\n",
              "    <tr>\n",
              "      <th>std</th>\n",
              "      <td>2.204460</td>\n",
              "      <td>22158.284352</td>\n",
              "      <td>5281.805350</td>\n",
              "      <td>NaN</td>\n",
              "      <td>NaN</td>\n",
              "      <td>0.604010</td>\n",
              "      <td>0.685335</td>\n",
              "      <td>0.709962</td>\n",
              "      <td>0.669018</td>\n",
              "      <td>NaN</td>\n",
              "      <td>0.718903</td>\n",
              "      <td>NaN</td>\n",
              "      <td>7.605600e+07</td>\n",
              "    </tr>\n",
              "    <tr>\n",
              "      <th>min</th>\n",
              "      <td>0.010000</td>\n",
              "      <td>3.000000</td>\n",
              "      <td>1.000000</td>\n",
              "      <td>NaN</td>\n",
              "      <td>NaN</td>\n",
              "      <td>0.000000</td>\n",
              "      <td>1.000000</td>\n",
              "      <td>0.000000</td>\n",
              "      <td>1.000000</td>\n",
              "      <td>NaN</td>\n",
              "      <td>1.000000</td>\n",
              "      <td>NaN</td>\n",
              "      <td>8.843904e+08</td>\n",
              "    </tr>\n",
              "    <tr>\n",
              "      <th>25%</th>\n",
              "      <td>5.300000</td>\n",
              "      <td>1745.000000</td>\n",
              "      <td>132.000000</td>\n",
              "      <td>NaN</td>\n",
              "      <td>NaN</td>\n",
              "      <td>3.500000</td>\n",
              "      <td>3.500000</td>\n",
              "      <td>3.500000</td>\n",
              "      <td>3.500000</td>\n",
              "      <td>NaN</td>\n",
              "      <td>3.500000</td>\n",
              "      <td>NaN</td>\n",
              "      <td>1.174613e+09</td>\n",
              "    </tr>\n",
              "    <tr>\n",
              "      <th>50%</th>\n",
              "      <td>6.500000</td>\n",
              "      <td>14368.000000</td>\n",
              "      <td>394.000000</td>\n",
              "      <td>NaN</td>\n",
              "      <td>NaN</td>\n",
              "      <td>4.000000</td>\n",
              "      <td>4.000000</td>\n",
              "      <td>4.000000</td>\n",
              "      <td>4.000000</td>\n",
              "      <td>NaN</td>\n",
              "      <td>4.000000</td>\n",
              "      <td>NaN</td>\n",
              "      <td>1.240366e+09</td>\n",
              "    </tr>\n",
              "    <tr>\n",
              "      <th>75%</th>\n",
              "      <td>8.500000</td>\n",
              "      <td>40528.000000</td>\n",
              "      <td>1475.000000</td>\n",
              "      <td>NaN</td>\n",
              "      <td>NaN</td>\n",
              "      <td>4.000000</td>\n",
              "      <td>4.000000</td>\n",
              "      <td>4.500000</td>\n",
              "      <td>4.000000</td>\n",
              "      <td>NaN</td>\n",
              "      <td>4.500000</td>\n",
              "      <td>NaN</td>\n",
              "      <td>1.288560e+09</td>\n",
              "    </tr>\n",
              "    <tr>\n",
              "      <th>max</th>\n",
              "      <td>57.700000</td>\n",
              "      <td>77310.000000</td>\n",
              "      <td>27980.000000</td>\n",
              "      <td>NaN</td>\n",
              "      <td>NaN</td>\n",
              "      <td>5.000000</td>\n",
              "      <td>5.000000</td>\n",
              "      <td>5.000000</td>\n",
              "      <td>5.000000</td>\n",
              "      <td>NaN</td>\n",
              "      <td>5.000000</td>\n",
              "      <td>NaN</td>\n",
              "      <td>1.326277e+09</td>\n",
              "    </tr>\n",
              "  </tbody>\n",
              "</table>\n",
              "</div>\n",
              "      <button class=\"colab-df-convert\" onclick=\"convertToInteractive('df-583c59f1-7184-43bf-a66e-e504eeb9b7a0')\"\n",
              "              title=\"Convert this dataframe to an interactive table.\"\n",
              "              style=\"display:none;\">\n",
              "        \n",
              "  <svg xmlns=\"http://www.w3.org/2000/svg\" height=\"24px\"viewBox=\"0 0 24 24\"\n",
              "       width=\"24px\">\n",
              "    <path d=\"M0 0h24v24H0V0z\" fill=\"none\"/>\n",
              "    <path d=\"M18.56 5.44l.94 2.06.94-2.06 2.06-.94-2.06-.94-.94-2.06-.94 2.06-2.06.94zm-11 1L8.5 8.5l.94-2.06 2.06-.94-2.06-.94L8.5 2.5l-.94 2.06-2.06.94zm10 10l.94 2.06.94-2.06 2.06-.94-2.06-.94-.94-2.06-.94 2.06-2.06.94z\"/><path d=\"M17.41 7.96l-1.37-1.37c-.4-.4-.92-.59-1.43-.59-.52 0-1.04.2-1.43.59L10.3 9.45l-7.72 7.72c-.78.78-.78 2.05 0 2.83L4 21.41c.39.39.9.59 1.41.59.51 0 1.02-.2 1.41-.59l7.78-7.78 2.81-2.81c.8-.78.8-2.07 0-2.86zM5.41 20L4 18.59l7.72-7.72 1.47 1.35L5.41 20z\"/>\n",
              "  </svg>\n",
              "      </button>\n",
              "      \n",
              "  <style>\n",
              "    .colab-df-container {\n",
              "      display:flex;\n",
              "      flex-wrap:wrap;\n",
              "      gap: 12px;\n",
              "    }\n",
              "\n",
              "    .colab-df-convert {\n",
              "      background-color: #E8F0FE;\n",
              "      border: none;\n",
              "      border-radius: 50%;\n",
              "      cursor: pointer;\n",
              "      display: none;\n",
              "      fill: #1967D2;\n",
              "      height: 32px;\n",
              "      padding: 0 0 0 0;\n",
              "      width: 32px;\n",
              "    }\n",
              "\n",
              "    .colab-df-convert:hover {\n",
              "      background-color: #E2EBFA;\n",
              "      box-shadow: 0px 1px 2px rgba(60, 64, 67, 0.3), 0px 1px 3px 1px rgba(60, 64, 67, 0.15);\n",
              "      fill: #174EA6;\n",
              "    }\n",
              "\n",
              "    [theme=dark] .colab-df-convert {\n",
              "      background-color: #3B4455;\n",
              "      fill: #D2E3FC;\n",
              "    }\n",
              "\n",
              "    [theme=dark] .colab-df-convert:hover {\n",
              "      background-color: #434B5C;\n",
              "      box-shadow: 0px 1px 3px 1px rgba(0, 0, 0, 0.15);\n",
              "      filter: drop-shadow(0px 1px 2px rgba(0, 0, 0, 0.3));\n",
              "      fill: #FFFFFF;\n",
              "    }\n",
              "  </style>\n",
              "\n",
              "      <script>\n",
              "        const buttonEl =\n",
              "          document.querySelector('#df-583c59f1-7184-43bf-a66e-e504eeb9b7a0 button.colab-df-convert');\n",
              "        buttonEl.style.display =\n",
              "          google.colab.kernel.accessAllowed ? 'block' : 'none';\n",
              "\n",
              "        async function convertToInteractive(key) {\n",
              "          const element = document.querySelector('#df-583c59f1-7184-43bf-a66e-e504eeb9b7a0');\n",
              "          const dataTable =\n",
              "            await google.colab.kernel.invokeFunction('convertToInteractive',\n",
              "                                                     [key], {});\n",
              "          if (!dataTable) return;\n",
              "\n",
              "          const docLinkHtml = 'Like what you see? Visit the ' +\n",
              "            '<a target=\"_blank\" href=https://colab.research.google.com/notebooks/data_table.ipynb>data table notebook</a>'\n",
              "            + ' to learn more about interactive tables.';\n",
              "          element.innerHTML = '';\n",
              "          dataTable['output_type'] = 'display_data';\n",
              "          await google.colab.output.renderOutput(dataTable, element);\n",
              "          const docLink = document.createElement('div');\n",
              "          docLink.innerHTML = docLinkHtml;\n",
              "          element.appendChild(docLink);\n",
              "        }\n",
              "      </script>\n",
              "    </div>\n",
              "  </div>\n",
              "  "
            ],
            "text/plain": [
              "             beer_ABV    beer_beerId  ...  review_text   review_time\n",
              "count   508590.000000  528870.000000  ...       528751  5.288700e+05\n",
              "unique            NaN            NaN  ...       528371           NaN\n",
              "top               NaN            NaN  ...       #NAME?           NaN\n",
              "freq              NaN            NaN  ...           92           NaN\n",
              "mean         7.017442   22098.466016  ...          NaN  1.224885e+09\n",
              "std          2.204460   22158.284352  ...          NaN  7.605600e+07\n",
              "min          0.010000       3.000000  ...          NaN  8.843904e+08\n",
              "25%          5.300000    1745.000000  ...          NaN  1.174613e+09\n",
              "50%          6.500000   14368.000000  ...          NaN  1.240366e+09\n",
              "75%          8.500000   40528.000000  ...          NaN  1.288560e+09\n",
              "max         57.700000   77310.000000  ...          NaN  1.326277e+09\n",
              "\n",
              "[11 rows x 13 columns]"
            ]
          },
          "metadata": {},
          "execution_count": 77
        }
      ]
    },
    {
      "cell_type": "markdown",
      "source": [
        "---\n",
        "---"
      ],
      "metadata": {
        "id": "Rf2IV3XSM76j"
      }
    },
    {
      "cell_type": "markdown",
      "source": [
        "> **Changing rewiev_time column from epoch time into DateTime datatime**"
      ],
      "metadata": {
        "id": "0BfSkrynMrYI"
      }
    },
    {
      "cell_type": "markdown",
      "source": [
        ">> If we look at the ‘.head()’ output we notice that the ‘review_time’ column is made up of long, large numbers with the data type ‘int64’. This is called ‘epoch time’ which is the time in seconds since Jan 1st 1970. Therefore pandas has a way to convert the int64 data type into a ‘DateTime’ datatype.\n",
        "\n"
      ],
      "metadata": {
        "id": "VdbDfURJ9cw2"
      }
    },
    {
      "cell_type": "code",
      "source": [
        "#putting the column name in quotation marks and square brackets \n",
        "#directly after the data frame calls out that column only, and using \n",
        "#pd.to_datetime() on our 'review time' column (with units as #seconds) we can convert the whole column to datetime\n",
        "\n",
        "data['review_time'] =pd.to_datetime(data['review_time'],unit='s')\n",
        "\n",
        "#printing out the new and updated data types and the column head\n",
        "print(data.dtypes)\n",
        "print(data['review_time'].head())"
      ],
      "metadata": {
        "colab": {
          "base_uri": "https://localhost:8080/"
        },
        "id": "ROtoBTMzC6aa",
        "outputId": "53c1703f-59fe-4011-bbf5-8578b4cd205c"
      },
      "execution_count": 78,
      "outputs": [
        {
          "output_type": "stream",
          "name": "stdout",
          "text": [
            "beer_ABV                     float64\n",
            "beer_beerId                    int64\n",
            "beer_brewerId                  int64\n",
            "beer_name                     object\n",
            "beer_style                    object\n",
            "review_appearance            float64\n",
            "review_palette               float64\n",
            "review_overall               float64\n",
            "review_taste                 float64\n",
            "review_profileName            object\n",
            "review_aroma                 float64\n",
            "review_text                   object\n",
            "review_time           datetime64[ns]\n",
            "dtype: object\n",
            "0   2009-02-16 20:57:03\n",
            "1   2009-03-01 13:44:57\n",
            "2   2009-03-01 14:10:04\n",
            "3   2009-02-15 19:12:25\n",
            "4   2010-12-30 18:53:26\n",
            "Name: review_time, dtype: datetime64[ns]\n"
          ]
        }
      ]
    },
    {
      "cell_type": "code",
      "source": [
        "data.info()"
      ],
      "metadata": {
        "colab": {
          "base_uri": "https://localhost:8080/"
        },
        "id": "qjuZg4MtDIY8",
        "outputId": "3ee28fc4-1112-49a5-86dc-e8bf3bd05749"
      },
      "execution_count": 79,
      "outputs": [
        {
          "output_type": "stream",
          "name": "stdout",
          "text": [
            "<class 'pandas.core.frame.DataFrame'>\n",
            "RangeIndex: 528870 entries, 0 to 528869\n",
            "Data columns (total 13 columns):\n",
            " #   Column              Non-Null Count   Dtype         \n",
            "---  ------              --------------   -----         \n",
            " 0   beer_ABV            508590 non-null  float64       \n",
            " 1   beer_beerId         528870 non-null  int64         \n",
            " 2   beer_brewerId       528870 non-null  int64         \n",
            " 3   beer_name           528870 non-null  object        \n",
            " 4   beer_style          528870 non-null  object        \n",
            " 5   review_appearance   528870 non-null  float64       \n",
            " 6   review_palette      528870 non-null  float64       \n",
            " 7   review_overall      528870 non-null  float64       \n",
            " 8   review_taste        528870 non-null  float64       \n",
            " 9   review_profileName  528755 non-null  object        \n",
            " 10  review_aroma        528870 non-null  float64       \n",
            " 11  review_text         528751 non-null  object        \n",
            " 12  review_time         528870 non-null  datetime64[ns]\n",
            "dtypes: datetime64[ns](1), float64(6), int64(2), object(4)\n",
            "memory usage: 52.5+ MB\n"
          ]
        }
      ]
    },
    {
      "cell_type": "code",
      "source": [
        "data.head()"
      ],
      "metadata": {
        "colab": {
          "base_uri": "https://localhost:8080/",
          "height": 565
        },
        "id": "I_178vbgD9aT",
        "outputId": "e6111fd8-c1ba-415a-d94e-92340d96cbe6"
      },
      "execution_count": 80,
      "outputs": [
        {
          "output_type": "execute_result",
          "data": {
            "text/html": [
              "\n",
              "  <div id=\"df-cc439be7-b45c-456e-9e0f-cd285f40e658\">\n",
              "    <div class=\"colab-df-container\">\n",
              "      <div>\n",
              "<style scoped>\n",
              "    .dataframe tbody tr th:only-of-type {\n",
              "        vertical-align: middle;\n",
              "    }\n",
              "\n",
              "    .dataframe tbody tr th {\n",
              "        vertical-align: top;\n",
              "    }\n",
              "\n",
              "    .dataframe thead th {\n",
              "        text-align: right;\n",
              "    }\n",
              "</style>\n",
              "<table border=\"1\" class=\"dataframe\">\n",
              "  <thead>\n",
              "    <tr style=\"text-align: right;\">\n",
              "      <th></th>\n",
              "      <th>beer_ABV</th>\n",
              "      <th>beer_beerId</th>\n",
              "      <th>beer_brewerId</th>\n",
              "      <th>beer_name</th>\n",
              "      <th>beer_style</th>\n",
              "      <th>review_appearance</th>\n",
              "      <th>review_palette</th>\n",
              "      <th>review_overall</th>\n",
              "      <th>review_taste</th>\n",
              "      <th>review_profileName</th>\n",
              "      <th>review_aroma</th>\n",
              "      <th>review_text</th>\n",
              "      <th>review_time</th>\n",
              "    </tr>\n",
              "  </thead>\n",
              "  <tbody>\n",
              "    <tr>\n",
              "      <th>0</th>\n",
              "      <td>5.0</td>\n",
              "      <td>47986</td>\n",
              "      <td>10325</td>\n",
              "      <td>Sausa Weizen</td>\n",
              "      <td>Hefeweizen</td>\n",
              "      <td>2.5</td>\n",
              "      <td>2.0</td>\n",
              "      <td>1.5</td>\n",
              "      <td>1.5</td>\n",
              "      <td>stcules</td>\n",
              "      <td>1.5</td>\n",
              "      <td>A lot of foam. But a lot. In the smell some ba...</td>\n",
              "      <td>2009-02-16 20:57:03</td>\n",
              "    </tr>\n",
              "    <tr>\n",
              "      <th>1</th>\n",
              "      <td>6.2</td>\n",
              "      <td>48213</td>\n",
              "      <td>10325</td>\n",
              "      <td>Red Moon</td>\n",
              "      <td>English Strong Ale</td>\n",
              "      <td>3.0</td>\n",
              "      <td>2.5</td>\n",
              "      <td>3.0</td>\n",
              "      <td>3.0</td>\n",
              "      <td>stcules</td>\n",
              "      <td>3.0</td>\n",
              "      <td>Dark red color, light beige foam, average. In ...</td>\n",
              "      <td>2009-03-01 13:44:57</td>\n",
              "    </tr>\n",
              "    <tr>\n",
              "      <th>2</th>\n",
              "      <td>6.5</td>\n",
              "      <td>48215</td>\n",
              "      <td>10325</td>\n",
              "      <td>Black Horse Black Beer</td>\n",
              "      <td>Foreign / Export Stout</td>\n",
              "      <td>3.0</td>\n",
              "      <td>2.5</td>\n",
              "      <td>3.0</td>\n",
              "      <td>3.0</td>\n",
              "      <td>stcules</td>\n",
              "      <td>3.0</td>\n",
              "      <td>Almost totally black. Beige foam, quite compac...</td>\n",
              "      <td>2009-03-01 14:10:04</td>\n",
              "    </tr>\n",
              "    <tr>\n",
              "      <th>3</th>\n",
              "      <td>5.0</td>\n",
              "      <td>47969</td>\n",
              "      <td>10325</td>\n",
              "      <td>Sausa Pils</td>\n",
              "      <td>German Pilsener</td>\n",
              "      <td>3.5</td>\n",
              "      <td>3.0</td>\n",
              "      <td>3.0</td>\n",
              "      <td>2.5</td>\n",
              "      <td>stcules</td>\n",
              "      <td>3.0</td>\n",
              "      <td>Golden yellow color. White, compact foam, quit...</td>\n",
              "      <td>2009-02-15 19:12:25</td>\n",
              "    </tr>\n",
              "    <tr>\n",
              "      <th>4</th>\n",
              "      <td>7.7</td>\n",
              "      <td>64883</td>\n",
              "      <td>1075</td>\n",
              "      <td>Cauldron DIPA</td>\n",
              "      <td>American Double / Imperial IPA</td>\n",
              "      <td>4.0</td>\n",
              "      <td>4.5</td>\n",
              "      <td>4.0</td>\n",
              "      <td>4.0</td>\n",
              "      <td>johnmichaelsen</td>\n",
              "      <td>4.5</td>\n",
              "      <td>According to the website, the style for the Ca...</td>\n",
              "      <td>2010-12-30 18:53:26</td>\n",
              "    </tr>\n",
              "  </tbody>\n",
              "</table>\n",
              "</div>\n",
              "      <button class=\"colab-df-convert\" onclick=\"convertToInteractive('df-cc439be7-b45c-456e-9e0f-cd285f40e658')\"\n",
              "              title=\"Convert this dataframe to an interactive table.\"\n",
              "              style=\"display:none;\">\n",
              "        \n",
              "  <svg xmlns=\"http://www.w3.org/2000/svg\" height=\"24px\"viewBox=\"0 0 24 24\"\n",
              "       width=\"24px\">\n",
              "    <path d=\"M0 0h24v24H0V0z\" fill=\"none\"/>\n",
              "    <path d=\"M18.56 5.44l.94 2.06.94-2.06 2.06-.94-2.06-.94-.94-2.06-.94 2.06-2.06.94zm-11 1L8.5 8.5l.94-2.06 2.06-.94-2.06-.94L8.5 2.5l-.94 2.06-2.06.94zm10 10l.94 2.06.94-2.06 2.06-.94-2.06-.94-.94-2.06-.94 2.06-2.06.94z\"/><path d=\"M17.41 7.96l-1.37-1.37c-.4-.4-.92-.59-1.43-.59-.52 0-1.04.2-1.43.59L10.3 9.45l-7.72 7.72c-.78.78-.78 2.05 0 2.83L4 21.41c.39.39.9.59 1.41.59.51 0 1.02-.2 1.41-.59l7.78-7.78 2.81-2.81c.8-.78.8-2.07 0-2.86zM5.41 20L4 18.59l7.72-7.72 1.47 1.35L5.41 20z\"/>\n",
              "  </svg>\n",
              "      </button>\n",
              "      \n",
              "  <style>\n",
              "    .colab-df-container {\n",
              "      display:flex;\n",
              "      flex-wrap:wrap;\n",
              "      gap: 12px;\n",
              "    }\n",
              "\n",
              "    .colab-df-convert {\n",
              "      background-color: #E8F0FE;\n",
              "      border: none;\n",
              "      border-radius: 50%;\n",
              "      cursor: pointer;\n",
              "      display: none;\n",
              "      fill: #1967D2;\n",
              "      height: 32px;\n",
              "      padding: 0 0 0 0;\n",
              "      width: 32px;\n",
              "    }\n",
              "\n",
              "    .colab-df-convert:hover {\n",
              "      background-color: #E2EBFA;\n",
              "      box-shadow: 0px 1px 2px rgba(60, 64, 67, 0.3), 0px 1px 3px 1px rgba(60, 64, 67, 0.15);\n",
              "      fill: #174EA6;\n",
              "    }\n",
              "\n",
              "    [theme=dark] .colab-df-convert {\n",
              "      background-color: #3B4455;\n",
              "      fill: #D2E3FC;\n",
              "    }\n",
              "\n",
              "    [theme=dark] .colab-df-convert:hover {\n",
              "      background-color: #434B5C;\n",
              "      box-shadow: 0px 1px 3px 1px rgba(0, 0, 0, 0.15);\n",
              "      filter: drop-shadow(0px 1px 2px rgba(0, 0, 0, 0.3));\n",
              "      fill: #FFFFFF;\n",
              "    }\n",
              "  </style>\n",
              "\n",
              "      <script>\n",
              "        const buttonEl =\n",
              "          document.querySelector('#df-cc439be7-b45c-456e-9e0f-cd285f40e658 button.colab-df-convert');\n",
              "        buttonEl.style.display =\n",
              "          google.colab.kernel.accessAllowed ? 'block' : 'none';\n",
              "\n",
              "        async function convertToInteractive(key) {\n",
              "          const element = document.querySelector('#df-cc439be7-b45c-456e-9e0f-cd285f40e658');\n",
              "          const dataTable =\n",
              "            await google.colab.kernel.invokeFunction('convertToInteractive',\n",
              "                                                     [key], {});\n",
              "          if (!dataTable) return;\n",
              "\n",
              "          const docLinkHtml = 'Like what you see? Visit the ' +\n",
              "            '<a target=\"_blank\" href=https://colab.research.google.com/notebooks/data_table.ipynb>data table notebook</a>'\n",
              "            + ' to learn more about interactive tables.';\n",
              "          element.innerHTML = '';\n",
              "          dataTable['output_type'] = 'display_data';\n",
              "          await google.colab.output.renderOutput(dataTable, element);\n",
              "          const docLink = document.createElement('div');\n",
              "          docLink.innerHTML = docLinkHtml;\n",
              "          element.appendChild(docLink);\n",
              "        }\n",
              "      </script>\n",
              "    </div>\n",
              "  </div>\n",
              "  "
            ],
            "text/plain": [
              "   beer_ABV  ...         review_time\n",
              "0       5.0  ... 2009-02-16 20:57:03\n",
              "1       6.2  ... 2009-03-01 13:44:57\n",
              "2       6.5  ... 2009-03-01 14:10:04\n",
              "3       5.0  ... 2009-02-15 19:12:25\n",
              "4       7.7  ... 2010-12-30 18:53:26\n",
              "\n",
              "[5 rows x 13 columns]"
            ]
          },
          "metadata": {},
          "execution_count": 80
        }
      ]
    },
    {
      "cell_type": "markdown",
      "source": [
        "Now, we can see 'review_time' in readable format."
      ],
      "metadata": {
        "id": "TJES1HfPkmRZ"
      }
    },
    {
      "cell_type": "markdown",
      "source": [
        "---\n",
        "---"
      ],
      "metadata": {
        "id": "lWmLecv9qPCJ"
      }
    },
    {
      "cell_type": "markdown",
      "source": [
        "**2. Missing Data**\n",
        "\n",
        "> 2.1 Count Null Values"
      ],
      "metadata": {
        "id": "UQR-Ak6Sng6H"
      }
    },
    {
      "cell_type": "code",
      "source": [
        "print(data.isnull().sum())"
      ],
      "metadata": {
        "colab": {
          "base_uri": "https://localhost:8080/"
        },
        "id": "42UJXEwEvDx_",
        "outputId": "13c3e114-19d8-43c1-cf8c-39fb475b0d89"
      },
      "execution_count": 81,
      "outputs": [
        {
          "output_type": "stream",
          "name": "stdout",
          "text": [
            "beer_ABV              20280\n",
            "beer_beerId               0\n",
            "beer_brewerId             0\n",
            "beer_name                 0\n",
            "beer_style                0\n",
            "review_appearance         0\n",
            "review_palette            0\n",
            "review_overall            0\n",
            "review_taste              0\n",
            "review_profileName      115\n",
            "review_aroma              0\n",
            "review_text             119\n",
            "review_time               0\n",
            "dtype: int64\n"
          ]
        }
      ]
    },
    {
      "cell_type": "markdown",
      "source": [
        "> 2.2 Percent Null Values"
      ],
      "metadata": {
        "id": "ChNVlehsnqxW"
      }
    },
    {
      "cell_type": "code",
      "source": [
        "# Percent of data missing `beer_abv` values\n",
        "print(\"Percent Null Values of `beer_abv` column:\", round(20280 / 528870 * 100, 2),\"%\")"
      ],
      "metadata": {
        "colab": {
          "base_uri": "https://localhost:8080/"
        },
        "id": "g7i4UiaAv_Ss",
        "outputId": "1db7ca41-96c7-44e3-f3ce-ce69b318c4a5"
      },
      "execution_count": 82,
      "outputs": [
        {
          "output_type": "stream",
          "name": "stdout",
          "text": [
            "Percent Null Values of `beer_abv` column: 3.83 %\n"
          ]
        }
      ]
    },
    {
      "cell_type": "markdown",
      "source": [
        "> 2.3 Drop Null Values"
      ],
      "metadata": {
        "id": "kG2uQEHCnucH"
      }
    },
    {
      "cell_type": "code",
      "source": [
        "# Drop null row values\n",
        "data = data.dropna()\n",
        "data.info()"
      ],
      "metadata": {
        "colab": {
          "base_uri": "https://localhost:8080/"
        },
        "id": "T3DHuk9BwN-W",
        "outputId": "8bd1853b-aa4e-4e61-e4c4-bec0a743d3e7"
      },
      "execution_count": 83,
      "outputs": [
        {
          "output_type": "stream",
          "name": "stdout",
          "text": [
            "<class 'pandas.core.frame.DataFrame'>\n",
            "Int64Index: 508358 entries, 0 to 528796\n",
            "Data columns (total 13 columns):\n",
            " #   Column              Non-Null Count   Dtype         \n",
            "---  ------              --------------   -----         \n",
            " 0   beer_ABV            508358 non-null  float64       \n",
            " 1   beer_beerId         508358 non-null  int64         \n",
            " 2   beer_brewerId       508358 non-null  int64         \n",
            " 3   beer_name           508358 non-null  object        \n",
            " 4   beer_style          508358 non-null  object        \n",
            " 5   review_appearance   508358 non-null  float64       \n",
            " 6   review_palette      508358 non-null  float64       \n",
            " 7   review_overall      508358 non-null  float64       \n",
            " 8   review_taste        508358 non-null  float64       \n",
            " 9   review_profileName  508358 non-null  object        \n",
            " 10  review_aroma        508358 non-null  float64       \n",
            " 11  review_text         508358 non-null  object        \n",
            " 12  review_time         508358 non-null  datetime64[ns]\n",
            "dtypes: datetime64[ns](1), float64(6), int64(2), object(4)\n",
            "memory usage: 54.3+ MB\n"
          ]
        }
      ]
    },
    {
      "cell_type": "markdown",
      "source": [
        ">> Removing all null values only impacts the size of the dataset by a little over 3.8%."
      ],
      "metadata": {
        "id": "SiAj9vkBn252"
      }
    },
    {
      "cell_type": "code",
      "source": [
        "print(data.isnull().sum())"
      ],
      "metadata": {
        "colab": {
          "base_uri": "https://localhost:8080/"
        },
        "id": "L-7yPXjuwbKZ",
        "outputId": "16a28a02-a0bc-487c-f613-4973b89f21bb"
      },
      "execution_count": 84,
      "outputs": [
        {
          "output_type": "stream",
          "name": "stdout",
          "text": [
            "beer_ABV              0\n",
            "beer_beerId           0\n",
            "beer_brewerId         0\n",
            "beer_name             0\n",
            "beer_style            0\n",
            "review_appearance     0\n",
            "review_palette        0\n",
            "review_overall        0\n",
            "review_taste          0\n",
            "review_profileName    0\n",
            "review_aroma          0\n",
            "review_text           0\n",
            "review_time           0\n",
            "dtype: int64\n"
          ]
        }
      ]
    },
    {
      "cell_type": "markdown",
      "source": [
        "---\n",
        "---"
      ],
      "metadata": {
        "id": "D2-gVeKKqRu8"
      }
    },
    {
      "cell_type": "markdown",
      "source": [
        "**3. Duplicate Data**\n",
        "\n",
        "> If a user has rated the same beer more than once, then only keep their highest rating."
      ],
      "metadata": {
        "id": "wu2Zu87PoCdp"
      }
    },
    {
      "cell_type": "code",
      "source": [
        "# Sort by user overall rating first\n",
        "data = data.sort_values('review_overall', ascending=False)\n",
        "\n",
        "# Keep the highest rating from each user and drop the rest \n",
        "data = data.drop_duplicates(subset= ['review_profileName','beer_name'], keep='first')\n",
        "\n",
        "# Peep structure\n",
        "data.info()"
      ],
      "metadata": {
        "colab": {
          "base_uri": "https://localhost:8080/"
        },
        "id": "K-FKPF_Ew_dN",
        "outputId": "8973f64a-0d12-464e-d126-53efa9cac0fa"
      },
      "execution_count": 85,
      "outputs": [
        {
          "output_type": "stream",
          "name": "stdout",
          "text": [
            "<class 'pandas.core.frame.DataFrame'>\n",
            "Int64Index: 502769 entries, 492945 to 39638\n",
            "Data columns (total 13 columns):\n",
            " #   Column              Non-Null Count   Dtype         \n",
            "---  ------              --------------   -----         \n",
            " 0   beer_ABV            502769 non-null  float64       \n",
            " 1   beer_beerId         502769 non-null  int64         \n",
            " 2   beer_brewerId       502769 non-null  int64         \n",
            " 3   beer_name           502769 non-null  object        \n",
            " 4   beer_style          502769 non-null  object        \n",
            " 5   review_appearance   502769 non-null  float64       \n",
            " 6   review_palette      502769 non-null  float64       \n",
            " 7   review_overall      502769 non-null  float64       \n",
            " 8   review_taste        502769 non-null  float64       \n",
            " 9   review_profileName  502769 non-null  object        \n",
            " 10  review_aroma        502769 non-null  float64       \n",
            " 11  review_text         502769 non-null  object        \n",
            " 12  review_time         502769 non-null  datetime64[ns]\n",
            "dtypes: datetime64[ns](1), float64(6), int64(2), object(4)\n",
            "memory usage: 53.7+ MB\n"
          ]
        }
      ]
    },
    {
      "cell_type": "code",
      "source": [
        "# Percent of data that are duplicates\n",
        "print(\"Percent of Duplicate Values:\", round((508358 - 502769)/ 508358 * 100, 2),\"%\")"
      ],
      "metadata": {
        "colab": {
          "base_uri": "https://localhost:8080/"
        },
        "id": "n2dLSVZjxPFu",
        "outputId": "1daac4d4-181c-4566-f81f-2c01fac6792e"
      },
      "execution_count": 86,
      "outputs": [
        {
          "output_type": "stream",
          "name": "stdout",
          "text": [
            "Percent of Duplicate Values: 1.1 %\n"
          ]
        }
      ]
    },
    {
      "cell_type": "markdown",
      "source": [
        "> Removing all duplicate values drops about 1.1% of the remaining data."
      ],
      "metadata": {
        "id": "GV4GH9R0oIAc"
      }
    },
    {
      "cell_type": "code",
      "source": [
        "import matplotlib.pyplot as plt"
      ],
      "metadata": {
        "id": "Te_3182bxspy"
      },
      "execution_count": 87,
      "outputs": []
    },
    {
      "cell_type": "markdown",
      "source": [
        "---\n",
        "---"
      ],
      "metadata": {
        "id": "7fnqqFVIqTEi"
      }
    },
    {
      "cell_type": "markdown",
      "source": [
        "**4. Overview of Numeric Features**"
      ],
      "metadata": {
        "id": "M3UUt6LLoNwB"
      }
    },
    {
      "cell_type": "code",
      "source": [
        "# Histogram of all numeric features\n",
        "data.hist(figsize=(12,12))\n",
        "plt.show()"
      ],
      "metadata": {
        "colab": {
          "base_uri": "https://localhost:8080/",
          "height": 716
        },
        "id": "Pc_ldJhzxiyf",
        "outputId": "8e5a83a3-0514-4f40-fcdf-99262a4b5198"
      },
      "execution_count": 88,
      "outputs": [
        {
          "output_type": "display_data",
          "data": {
            "image/png": "[encoded data removed]",
            "text/plain": [
              "<Figure size 864x864 with 9 Axes>"
            ]
          },
          "metadata": {
            "needs_background": "light"
          }
        }
      ]
    },
    {
      "cell_type": "markdown",
      "source": [
        "* **beer_abv**\t(Skewed right)\tMost beers are less than 20% ABV\n",
        "\n",
        "* **beer_beerid**\t(Skewed right)\tLower IDs have more reviews than higher IDs\n",
        "\n",
        "* **brewery_id**\t(Skewed right)\tLower IDs have more reviews than higher IDs\n",
        "\n",
        "* **review_appearance**\t(Skewed left)\tMost beers rated 4 and higher\n",
        "\n",
        "* **review_aroma**\t(Normal)\tMost beers rated between 3 and 4\n",
        "\n",
        "* **review_overall**\t(Skewed left)\tMost beers rated 4 and higher\n",
        "\n",
        "* **review_palate**\t(Normal)\tMost beers rated between 3 and 4\n",
        "\n",
        "* **review_taste**\tNormal\tMost beers rated between 3.5 and 4.5\n"
      ],
      "metadata": {
        "id": "JuJnucGHzLEG"
      }
    },
    {
      "cell_type": "markdown",
      "source": [
        "> **Ratings of 0**\n",
        "\n",
        ">> Since ratings are on a scale of 1-5, any values in review variables that are less than 1 are not suitable for analysis."
      ],
      "metadata": {
        "id": "DqRwPyUOpihV"
      }
    },
    {
      "cell_type": "code",
      "source": [
        "# Ratings of 0\n",
        "# Since ratings are on a scale of 1-5,\n",
        "# any values in review variables that are less than 1 are not suitable for analysis.\n",
        "\n",
        "# Review scores of >= 1\n",
        "data = data[(data['review_overall'] >= 1) | \\\n",
        "        (data['review_appearance'] >= 1)]\n",
        "\n",
        "# Check it out\n",
        "data.info()"
      ],
      "metadata": {
        "colab": {
          "base_uri": "https://localhost:8080/"
        },
        "id": "xCqRmh09ypjl",
        "outputId": "b9a0403d-bcce-4e97-bdda-4ebce4f9e48e"
      },
      "execution_count": 89,
      "outputs": [
        {
          "output_type": "stream",
          "name": "stdout",
          "text": [
            "<class 'pandas.core.frame.DataFrame'>\n",
            "Int64Index: 502766 entries, 492945 to 188052\n",
            "Data columns (total 13 columns):\n",
            " #   Column              Non-Null Count   Dtype         \n",
            "---  ------              --------------   -----         \n",
            " 0   beer_ABV            502766 non-null  float64       \n",
            " 1   beer_beerId         502766 non-null  int64         \n",
            " 2   beer_brewerId       502766 non-null  int64         \n",
            " 3   beer_name           502766 non-null  object        \n",
            " 4   beer_style          502766 non-null  object        \n",
            " 5   review_appearance   502766 non-null  float64       \n",
            " 6   review_palette      502766 non-null  float64       \n",
            " 7   review_overall      502766 non-null  float64       \n",
            " 8   review_taste        502766 non-null  float64       \n",
            " 9   review_profileName  502766 non-null  object        \n",
            " 10  review_aroma        502766 non-null  float64       \n",
            " 11  review_text         502766 non-null  object        \n",
            " 12  review_time         502766 non-null  datetime64[ns]\n",
            "dtypes: datetime64[ns](1), float64(6), int64(2), object(4)\n",
            "memory usage: 53.7+ MB\n"
          ]
        }
      ]
    },
    {
      "cell_type": "markdown",
      "source": [
        ">> There were only 3 reviews with ratings of less than 1 here which is basically negligible. However, it's always a good idea to check for numbers which don't make sense in your dataset."
      ],
      "metadata": {
        "id": "zLYyEpEM0tQ1"
      }
    },
    {
      "cell_type": "markdown",
      "source": [
        "---\n",
        "---\n",
        "---\n",
        "---"
      ],
      "metadata": {
        "id": "C7TKxxPMqKID"
      }
    },
    {
      "cell_type": "markdown",
      "source": [
        "# **QUESTION AND ANSWERS**"
      ],
      "metadata": {
        "id": "9vg2tm7Upqd8"
      }
    },
    {
      "cell_type": "markdown",
      "source": [
        "### **1) Which brewery produces the strongest beers by alcohol beverage percent?**"
      ],
      "metadata": {
        "id": "3q2N6bIH1uHo"
      }
    },
    {
      "cell_type": "markdown",
      "source": [
        "Top 10 Strongest Beers by ABV( Alcohol by Volume)"
      ],
      "metadata": {
        "id": "Adr96reK1xx0"
      }
    },
    {
      "cell_type": "code",
      "source": [
        "from plotly.offline import download_plotlyjs, init_notebook_mode, plot, iplot\n",
        "import plotly as py\n",
        "import plotly.graph_objs as go\n",
        "import plotly.tools as tls\n",
        "import plotly.figure_factory as ff"
      ],
      "metadata": {
        "id": "sX9OiVdv2sOF"
      },
      "execution_count": 90,
      "outputs": []
    },
    {
      "cell_type": "code",
      "source": [
        "# Top 10 Beers by ABV\n",
        "top_10_abv = data[['beer_name','beer_ABV']].\\\n",
        "    sort_values('beer_ABV', ascending=False). \\\n",
        "    drop_duplicates('beer_name').\\\n",
        "    head(10).\\\n",
        "    sort_values('beer_ABV', ascending=True)\n",
        "\n",
        "# Combine brewery and beer name for readability\n",
        "#top_10_abv['combined_name'] = top_10_abv['brewery_name'].str.\\\n",
        "  #cat(top_10_abv['beer_name'], sep=' : ')\n",
        "\n",
        "# Plot it\n",
        "p = [go.Bar(x = top_10_abv['beer_ABV'] / 100,\n",
        "            y = top_10_abv['beer_name'],\n",
        "            hoverinfo = 'x',\n",
        "            \n",
        "            textposition = 'inside',\n",
        "            orientation = 'h',\n",
        "            opacity=0.7, \n",
        "            marker=dict(\n",
        "                color='rgb(1, 87, 155)'))]\n"
      ],
      "metadata": {
        "id": "UJpqlfda1plO"
      },
      "execution_count": 91,
      "outputs": []
    },
    {
      "cell_type": "code",
      "source": [
        "# Pieces of Flair\n",
        "layout = go.Layout(title='Top 10 Strongest Beers by ABV',\n",
        "                   xaxis=dict(title=\"ABV\",\n",
        "                              tickformat = \"%\",\n",
        "                              hoverformat = '.2%'),\n",
        "                   margin = dict(l = 220),\n",
        "                   font=dict(family='Courier New, monospace',\n",
        "                            color='dark gray'))\n",
        "\n",
        "fig = go.Figure(data=p, layout=layout)\n",
        "\n",
        "# Plot it\n",
        "py.offline.iplot(fig)\n"
      ],
      "metadata": {
        "colab": {
          "base_uri": "https://localhost:8080/",
          "height": 542
        },
        "id": "yp5o6DM82Hb4",
        "outputId": "d55a7677-1cf3-488e-f125-b81c96da9f18"
      },
      "execution_count": 92,
      "outputs": [
        {
          "output_type": "display_data",
          "data": {
            "text/html": [
              "<html>\n",
              "<head><meta charset=\"utf-8\" /></head>\n",
              "<body>\n",
              "    <div>\n",
              "            <script src=\"https://cdnjs.cloudflare.com/ajax/libs/mathjax/2.7.5/MathJax.js?config=TeX-AMS-MML_SVG\"></script><script type=\"text/javascript\">if (window.MathJax) {MathJax.Hub.Config({SVG: {font: \"STIX-Web\"}});}</script>\n",
              "                <script type=\"text/javascript\">window.PlotlyConfig = {MathJaxConfig: 'local'};</script>\n",
              "        <script src=\"https://cdn.plot.ly/plotly-latest.min.js\"></script>    \n",
              "            <div id=\"dccb3b0f-a6d2-4531-b32c-2a1c69c180fd\" class=\"plotly-graph-div\" style=\"height:525px; width:100%;\"></div>\n",
              "            <script type=\"text/javascript\">\n",
              "                \n",
              "                    window.PLOTLYENV=window.PLOTLYENV || {};\n",
              "                    \n",
              "                if (document.getElementById(\"dccb3b0f-a6d2-4531-b32c-2a1c69c180fd\")) {\n",
              "                    Plotly.newPlot(\n",
              "                        'dccb3b0f-a6d2-4531-b32c-2a1c69c180fd',\n",
              "                        [{\"hoverinfo\": \"x\", \"marker\": {\"color\": \"rgb(1, 87, 155)\"}, \"opacity\": 0.7, \"orientation\": \"h\", \"textposition\": \"inside\", \"type\": \"bar\", \"x\": [0.195, 0.21, 0.24, 0.25, 0.25, 0.27, 0.3086, 0.3944, 0.43, 0.5770000000000001], \"y\": [\"Cherry Chocolate Rain\", \"Samuel Adams Millennium\", \"Samuel Adams Utopias MMII\", \"Samuel Adams Utopias MMIII\", \"Samuel Adams Utopias (Aged On Cocoa Nibs)\", \"Samuel Adams Utopias\", \"Schorschbr\\u00e4u Schorschbock 31%\", \"Schorschbr\\u00e4u Schorschbock 40%\", \"Schorschbr\\u00e4u Schorschbock 43%\", \"Schorschbr\\u00e4u Schorschbock 57%\"]}],\n",
              "                        {\"font\": {\"color\": \"dark gray\", \"family\": \"Courier New, monospace\"}, \"margin\": {\"l\": 220}, \"template\": {\"data\": {\"bar\": [{\"error_x\": {\"color\": \"#2a3f5f\"}, \"error_y\": {\"color\": \"#2a3f5f\"}, \"marker\": {\"line\": {\"color\": \"#E5ECF6\", \"width\": 0.5}}, \"type\": \"bar\"}], \"barpolar\": [{\"marker\": {\"line\": {\"color\": \"#E5ECF6\", \"width\": 0.5}}, \"type\": \"barpolar\"}], \"carpet\": [{\"aaxis\": {\"endlinecolor\": \"#2a3f5f\", \"gridcolor\": \"white\", \"linecolor\": \"white\", \"minorgridcolor\": \"white\", \"startlinecolor\": \"#2a3f5f\"}, \"baxis\": {\"endlinecolor\": \"#2a3f5f\", \"gridcolor\": \"white\", \"linecolor\": \"white\", \"minorgridcolor\": \"white\", \"startlinecolor\": \"#2a3f5f\"}, \"type\": \"carpet\"}], \"choropleth\": [{\"colorbar\": {\"outlinewidth\": 0, \"ticks\": \"\"}, \"type\": \"choropleth\"}], \"contour\": [{\"colorbar\": {\"outlinewidth\": 0, \"ticks\": \"\"}, \"colorscale\": [[0.0, \"#0d0887\"], [0.1111111111111111, \"#46039f\"], [0.2222222222222222, \"#7201a8\"], [0.3333333333333333, \"#9c179e\"], [0.4444444444444444, \"#bd3786\"], [0.5555555555555556, \"#d8576b\"], [0.6666666666666666, \"#ed7953\"], [0.7777777777777778, \"#fb9f3a\"], [0.8888888888888888, \"#fdca26\"], [1.0, \"#f0f921\"]], \"type\": \"contour\"}], \"contourcarpet\": [{\"colorbar\": {\"outlinewidth\": 0, \"ticks\": \"\"}, \"type\": \"contourcarpet\"}], \"heatmap\": [{\"colorbar\": {\"outlinewidth\": 0, \"ticks\": \"\"}, \"colorscale\": [[0.0, \"#0d0887\"], [0.1111111111111111, \"#46039f\"], [0.2222222222222222, \"#7201a8\"], [0.3333333333333333, \"#9c179e\"], [0.4444444444444444, \"#bd3786\"], [0.5555555555555556, \"#d8576b\"], [0.6666666666666666, \"#ed7953\"], [0.7777777777777778, \"#fb9f3a\"], [0.8888888888888888, \"#fdca26\"], [1.0, \"#f0f921\"]], \"type\": \"heatmap\"}], \"heatmapgl\": [{\"colorbar\": {\"outlinewidth\": 0, \"ticks\": \"\"}, \"colorscale\": [[0.0, \"#0d0887\"], [0.1111111111111111, \"#46039f\"], [0.2222222222222222, \"#7201a8\"], [0.3333333333333333, \"#9c179e\"], [0.4444444444444444, \"#bd3786\"], [0.5555555555555556, \"#d8576b\"], [0.6666666666666666, \"#ed7953\"], [0.7777777777777778, \"#fb9f3a\"], [0.8888888888888888, \"#fdca26\"], [1.0, \"#f0f921\"]], \"type\": \"heatmapgl\"}], \"histogram\": [{\"marker\": {\"colorbar\": {\"outlinewidth\": 0, \"ticks\": \"\"}}, \"type\": \"histogram\"}], \"histogram2d\": [{\"colorbar\": {\"outlinewidth\": 0, \"ticks\": \"\"}, \"colorscale\": [[0.0, \"#0d0887\"], [0.1111111111111111, \"#46039f\"], [0.2222222222222222, \"#7201a8\"], [0.3333333333333333, \"#9c179e\"], [0.4444444444444444, \"#bd3786\"], [0.5555555555555556, \"#d8576b\"], [0.6666666666666666, \"#ed7953\"], [0.7777777777777778, \"#fb9f3a\"], [0.8888888888888888, \"#fdca26\"], [1.0, \"#f0f921\"]], \"type\": \"histogram2d\"}], \"histogram2dcontour\": [{\"colorbar\": {\"outlinewidth\": 0, \"ticks\": \"\"}, \"colorscale\": [[0.0, \"#0d0887\"], [0.1111111111111111, \"#46039f\"], [0.2222222222222222, \"#7201a8\"], [0.3333333333333333, \"#9c179e\"], [0.4444444444444444, \"#bd3786\"], [0.5555555555555556, \"#d8576b\"], [0.6666666666666666, \"#ed7953\"], [0.7777777777777778, \"#fb9f3a\"], [0.8888888888888888, \"#fdca26\"], [1.0, \"#f0f921\"]], \"type\": \"histogram2dcontour\"}], \"mesh3d\": [{\"colorbar\": {\"outlinewidth\": 0, \"ticks\": \"\"}, \"type\": \"mesh3d\"}], \"parcoords\": [{\"line\": {\"colorbar\": {\"outlinewidth\": 0, \"ticks\": \"\"}}, \"type\": \"parcoords\"}], \"pie\": [{\"automargin\": true, \"type\": \"pie\"}], \"scatter\": [{\"marker\": {\"colorbar\": {\"outlinewidth\": 0, \"ticks\": \"\"}}, \"type\": \"scatter\"}], \"scatter3d\": [{\"line\": {\"colorbar\": {\"outlinewidth\": 0, \"ticks\": \"\"}}, \"marker\": {\"colorbar\": {\"outlinewidth\": 0, \"ticks\": \"\"}}, \"type\": \"scatter3d\"}], \"scattercarpet\": [{\"marker\": {\"colorbar\": {\"outlinewidth\": 0, \"ticks\": \"\"}}, \"type\": \"scattercarpet\"}], \"scattergeo\": [{\"marker\": {\"colorbar\": {\"outlinewidth\": 0, \"ticks\": \"\"}}, \"type\": \"scattergeo\"}], \"scattergl\": [{\"marker\": {\"colorbar\": {\"outlinewidth\": 0, \"ticks\": \"\"}}, \"type\": \"scattergl\"}], \"scattermapbox\": [{\"marker\": {\"colorbar\": {\"outlinewidth\": 0, \"ticks\": \"\"}}, \"type\": \"scattermapbox\"}], \"scatterpolar\": [{\"marker\": {\"colorbar\": {\"outlinewidth\": 0, \"ticks\": \"\"}}, \"type\": \"scatterpolar\"}], \"scatterpolargl\": [{\"marker\": {\"colorbar\": {\"outlinewidth\": 0, \"ticks\": \"\"}}, \"type\": \"scatterpolargl\"}], \"scatterternary\": [{\"marker\": {\"colorbar\": {\"outlinewidth\": 0, \"ticks\": \"\"}}, \"type\": \"scatterternary\"}], \"surface\": [{\"colorbar\": {\"outlinewidth\": 0, \"ticks\": \"\"}, \"colorscale\": [[0.0, \"#0d0887\"], [0.1111111111111111, \"#46039f\"], [0.2222222222222222, \"#7201a8\"], [0.3333333333333333, \"#9c179e\"], [0.4444444444444444, \"#bd3786\"], [0.5555555555555556, \"#d8576b\"], [0.6666666666666666, \"#ed7953\"], [0.7777777777777778, \"#fb9f3a\"], [0.8888888888888888, \"#fdca26\"], [1.0, \"#f0f921\"]], \"type\": \"surface\"}], \"table\": [{\"cells\": {\"fill\": {\"color\": \"#EBF0F8\"}, \"line\": {\"color\": \"white\"}}, \"header\": {\"fill\": {\"color\": \"#C8D4E3\"}, \"line\": {\"color\": \"white\"}}, \"type\": \"table\"}]}, \"layout\": {\"annotationdefaults\": {\"arrowcolor\": \"#2a3f5f\", \"arrowhead\": 0, \"arrowwidth\": 1}, \"coloraxis\": {\"colorbar\": {\"outlinewidth\": 0, \"ticks\": \"\"}}, \"colorscale\": {\"diverging\": [[0, \"#8e0152\"], [0.1, \"#c51b7d\"], [0.2, \"#de77ae\"], [0.3, \"#f1b6da\"], [0.4, \"#fde0ef\"], [0.5, \"#f7f7f7\"], [0.6, \"#e6f5d0\"], [0.7, \"#b8e186\"], [0.8, \"#7fbc41\"], [0.9, \"#4d9221\"], [1, \"#276419\"]], \"sequential\": [[0.0, \"#0d0887\"], [0.1111111111111111, \"#46039f\"], [0.2222222222222222, \"#7201a8\"], [0.3333333333333333, \"#9c179e\"], [0.4444444444444444, \"#bd3786\"], [0.5555555555555556, \"#d8576b\"], [0.6666666666666666, \"#ed7953\"], [0.7777777777777778, \"#fb9f3a\"], [0.8888888888888888, \"#fdca26\"], [1.0, \"#f0f921\"]], \"sequentialminus\": [[0.0, \"#0d0887\"], [0.1111111111111111, \"#46039f\"], [0.2222222222222222, \"#7201a8\"], [0.3333333333333333, \"#9c179e\"], [0.4444444444444444, \"#bd3786\"], [0.5555555555555556, \"#d8576b\"], [0.6666666666666666, \"#ed7953\"], [0.7777777777777778, \"#fb9f3a\"], [0.8888888888888888, \"#fdca26\"], [1.0, \"#f0f921\"]]}, \"colorway\": [\"#636efa\", \"#EF553B\", \"#00cc96\", \"#ab63fa\", \"#FFA15A\", \"#19d3f3\", \"#FF6692\", \"#B6E880\", \"#FF97FF\", \"#FECB52\"], \"font\": {\"color\": \"#2a3f5f\"}, \"geo\": {\"bgcolor\": \"white\", \"lakecolor\": \"white\", \"landcolor\": \"#E5ECF6\", \"showlakes\": true, \"showland\": true, \"subunitcolor\": \"white\"}, \"hoverlabel\": {\"align\": \"left\"}, \"hovermode\": \"closest\", \"mapbox\": {\"style\": \"light\"}, \"paper_bgcolor\": \"white\", \"plot_bgcolor\": \"#E5ECF6\", \"polar\": {\"angularaxis\": {\"gridcolor\": \"white\", \"linecolor\": \"white\", \"ticks\": \"\"}, \"bgcolor\": \"#E5ECF6\", \"radialaxis\": {\"gridcolor\": \"white\", \"linecolor\": \"white\", \"ticks\": \"\"}}, \"scene\": {\"xaxis\": {\"backgroundcolor\": \"#E5ECF6\", \"gridcolor\": \"white\", \"gridwidth\": 2, \"linecolor\": \"white\", \"showbackground\": true, \"ticks\": \"\", \"zerolinecolor\": \"white\"}, \"yaxis\": {\"backgroundcolor\": \"#E5ECF6\", \"gridcolor\": \"white\", \"gridwidth\": 2, \"linecolor\": \"white\", \"showbackground\": true, \"ticks\": \"\", \"zerolinecolor\": \"white\"}, \"zaxis\": {\"backgroundcolor\": \"#E5ECF6\", \"gridcolor\": \"white\", \"gridwidth\": 2, \"linecolor\": \"white\", \"showbackground\": true, \"ticks\": \"\", \"zerolinecolor\": \"white\"}}, \"shapedefaults\": {\"line\": {\"color\": \"#2a3f5f\"}}, \"ternary\": {\"aaxis\": {\"gridcolor\": \"white\", \"linecolor\": \"white\", \"ticks\": \"\"}, \"baxis\": {\"gridcolor\": \"white\", \"linecolor\": \"white\", \"ticks\": \"\"}, \"bgcolor\": \"#E5ECF6\", \"caxis\": {\"gridcolor\": \"white\", \"linecolor\": \"white\", \"ticks\": \"\"}}, \"title\": {\"x\": 0.05}, \"xaxis\": {\"automargin\": true, \"gridcolor\": \"white\", \"linecolor\": \"white\", \"ticks\": \"\", \"title\": {\"standoff\": 15}, \"zerolinecolor\": \"white\", \"zerolinewidth\": 2}, \"yaxis\": {\"automargin\": true, \"gridcolor\": \"white\", \"linecolor\": \"white\", \"ticks\": \"\", \"title\": {\"standoff\": 15}, \"zerolinecolor\": \"white\", \"zerolinewidth\": 2}}}, \"title\": {\"text\": \"Top 10 Strongest Beers by ABV\"}, \"xaxis\": {\"hoverformat\": \".2%\", \"tickformat\": \"%\", \"title\": {\"text\": \"ABV\"}}},\n",
              "                        {\"responsive\": true}\n",
              "                    ).then(function(){\n",
              "                            \n",
              "var gd = document.getElementById('dccb3b0f-a6d2-4531-b32c-2a1c69c180fd');\n",
              "var x = new MutationObserver(function (mutations, observer) {{\n",
              "        var display = window.getComputedStyle(gd).display;\n",
              "        if (!display || display === 'none') {{\n",
              "            console.log([gd, 'removed!']);\n",
              "            Plotly.purge(gd);\n",
              "            observer.disconnect();\n",
              "        }}\n",
              "}});\n",
              "\n",
              "// Listen for the removal of the full notebook cells\n",
              "var notebookContainer = gd.closest('#notebook-container');\n",
              "if (notebookContainer) {{\n",
              "    x.observe(notebookContainer, {childList: true});\n",
              "}}\n",
              "\n",
              "// Listen for the clearing of the current output cell\n",
              "var outputEl = gd.closest('.output');\n",
              "if (outputEl) {{\n",
              "    x.observe(outputEl, {childList: true});\n",
              "}}\n",
              "\n",
              "                        })\n",
              "                };\n",
              "                \n",
              "            </script>\n",
              "        </div>\n",
              "</body>\n",
              "</html>"
            ]
          },
          "metadata": {}
        }
      ]
    },
    {
      "cell_type": "markdown",
      "source": [
        "The strongest beer produced is 57% ABV produced by Schorschbrau. "
      ],
      "metadata": {
        "id": "74BDeL_E3SI5"
      }
    },
    {
      "cell_type": "markdown",
      "source": [
        "---\n",
        "---\n",
        "---"
      ],
      "metadata": {
        "id": "UUHiVhPNtDLZ"
      }
    },
    {
      "cell_type": "markdown",
      "source": [
        "### **2)\tWhich year did beers enjoy the highest ratings?**"
      ],
      "metadata": {
        "id": "bJN7M6uZNRJt"
      }
    },
    {
      "cell_type": "code",
      "source": [
        "data['year'] = data['review_time'].dt.year"
      ],
      "metadata": {
        "id": "maeIHYcEFNmT"
      },
      "execution_count": 93,
      "outputs": []
    },
    {
      "cell_type": "code",
      "source": [
        "data.head()"
      ],
      "metadata": {
        "colab": {
          "base_uri": "https://localhost:8080/",
          "height": 565
        },
        "id": "N4_1WgDIHzFe",
        "outputId": "3ede322d-48b6-4811-8f04-ba575fc13ac1"
      },
      "execution_count": 94,
      "outputs": [
        {
          "output_type": "execute_result",
          "data": {
            "text/html": [
              "\n",
              "  <div id=\"df-0d1f2227-f884-43c0-9f45-9f11ffee5835\">\n",
              "    <div class=\"colab-df-container\">\n",
              "      <div>\n",
              "<style scoped>\n",
              "    .dataframe tbody tr th:only-of-type {\n",
              "        vertical-align: middle;\n",
              "    }\n",
              "\n",
              "    .dataframe tbody tr th {\n",
              "        vertical-align: top;\n",
              "    }\n",
              "\n",
              "    .dataframe thead th {\n",
              "        text-align: right;\n",
              "    }\n",
              "</style>\n",
              "<table border=\"1\" class=\"dataframe\">\n",
              "  <thead>\n",
              "    <tr style=\"text-align: right;\">\n",
              "      <th></th>\n",
              "      <th>beer_ABV</th>\n",
              "      <th>beer_beerId</th>\n",
              "      <th>beer_brewerId</th>\n",
              "      <th>beer_name</th>\n",
              "      <th>beer_style</th>\n",
              "      <th>review_appearance</th>\n",
              "      <th>review_palette</th>\n",
              "      <th>review_overall</th>\n",
              "      <th>review_taste</th>\n",
              "      <th>review_profileName</th>\n",
              "      <th>review_aroma</th>\n",
              "      <th>review_text</th>\n",
              "      <th>review_time</th>\n",
              "      <th>year</th>\n",
              "    </tr>\n",
              "  </thead>\n",
              "  <tbody>\n",
              "    <tr>\n",
              "      <th>492945</th>\n",
              "      <td>6.2</td>\n",
              "      <td>1339</td>\n",
              "      <td>132</td>\n",
              "      <td>Hazelnut Brown Nectar</td>\n",
              "      <td>American Brown Ale</td>\n",
              "      <td>4.5</td>\n",
              "      <td>3.0</td>\n",
              "      <td>5.0</td>\n",
              "      <td>4.5</td>\n",
              "      <td>prosper</td>\n",
              "      <td>5.0</td>\n",
              "      <td>Served at ~15C. Gorgeous pour. Nut brown, slig...</td>\n",
              "      <td>2008-09-09 23:35:21</td>\n",
              "      <td>2008</td>\n",
              "    </tr>\n",
              "    <tr>\n",
              "      <th>172728</th>\n",
              "      <td>4.7</td>\n",
              "      <td>689</td>\n",
              "      <td>221</td>\n",
              "      <td>Red Stripe Jamaican Lager</td>\n",
              "      <td>American Adjunct Lager</td>\n",
              "      <td>5.0</td>\n",
              "      <td>3.0</td>\n",
              "      <td>5.0</td>\n",
              "      <td>4.5</td>\n",
              "      <td>AussieInPhilly</td>\n",
              "      <td>4.0</td>\n",
              "      <td>This beer is tops. The crisp, yet smooth taste...</td>\n",
              "      <td>2005-10-13 08:35:11</td>\n",
              "      <td>2005</td>\n",
              "    </tr>\n",
              "    <tr>\n",
              "      <th>409699</th>\n",
              "      <td>7.5</td>\n",
              "      <td>15881</td>\n",
              "      <td>694</td>\n",
              "      <td>Tröegs Nugget Nectar</td>\n",
              "      <td>American Amber / Red Ale</td>\n",
              "      <td>4.0</td>\n",
              "      <td>4.0</td>\n",
              "      <td>5.0</td>\n",
              "      <td>4.5</td>\n",
              "      <td>abents</td>\n",
              "      <td>4.5</td>\n",
              "      <td>Thanks to mikereaser for sending this in a tra...</td>\n",
              "      <td>2009-02-19 01:29:41</td>\n",
              "      <td>2009</td>\n",
              "    </tr>\n",
              "    <tr>\n",
              "      <th>517331</th>\n",
              "      <td>5.0</td>\n",
              "      <td>571</td>\n",
              "      <td>113</td>\n",
              "      <td>Samuel Smith's Oatmeal Stout</td>\n",
              "      <td>Oatmeal Stout</td>\n",
              "      <td>4.5</td>\n",
              "      <td>4.5</td>\n",
              "      <td>5.0</td>\n",
              "      <td>4.5</td>\n",
              "      <td>cuzinpete00</td>\n",
              "      <td>4.5</td>\n",
              "      <td>this beer is a must try. very drinkable and ve...</td>\n",
              "      <td>2008-02-20 03:05:01</td>\n",
              "      <td>2008</td>\n",
              "    </tr>\n",
              "    <tr>\n",
              "      <th>172704</th>\n",
              "      <td>4.7</td>\n",
              "      <td>689</td>\n",
              "      <td>221</td>\n",
              "      <td>Red Stripe Jamaican Lager</td>\n",
              "      <td>American Adjunct Lager</td>\n",
              "      <td>3.0</td>\n",
              "      <td>3.5</td>\n",
              "      <td>5.0</td>\n",
              "      <td>4.0</td>\n",
              "      <td>lordbrad1</td>\n",
              "      <td>5.0</td>\n",
              "      <td>I've never met anyone that didn't like this be...</td>\n",
              "      <td>2005-12-23 00:05:52</td>\n",
              "      <td>2005</td>\n",
              "    </tr>\n",
              "  </tbody>\n",
              "</table>\n",
              "</div>\n",
              "      <button class=\"colab-df-convert\" onclick=\"convertToInteractive('df-0d1f2227-f884-43c0-9f45-9f11ffee5835')\"\n",
              "              title=\"Convert this dataframe to an interactive table.\"\n",
              "              style=\"display:none;\">\n",
              "        \n",
              "  <svg xmlns=\"http://www.w3.org/2000/svg\" height=\"24px\"viewBox=\"0 0 24 24\"\n",
              "       width=\"24px\">\n",
              "    <path d=\"M0 0h24v24H0V0z\" fill=\"none\"/>\n",
              "    <path d=\"M18.56 5.44l.94 2.06.94-2.06 2.06-.94-2.06-.94-.94-2.06-.94 2.06-2.06.94zm-11 1L8.5 8.5l.94-2.06 2.06-.94-2.06-.94L8.5 2.5l-.94 2.06-2.06.94zm10 10l.94 2.06.94-2.06 2.06-.94-2.06-.94-.94-2.06-.94 2.06-2.06.94z\"/><path d=\"M17.41 7.96l-1.37-1.37c-.4-.4-.92-.59-1.43-.59-.52 0-1.04.2-1.43.59L10.3 9.45l-7.72 7.72c-.78.78-.78 2.05 0 2.83L4 21.41c.39.39.9.59 1.41.59.51 0 1.02-.2 1.41-.59l7.78-7.78 2.81-2.81c.8-.78.8-2.07 0-2.86zM5.41 20L4 18.59l7.72-7.72 1.47 1.35L5.41 20z\"/>\n",
              "  </svg>\n",
              "      </button>\n",
              "      \n",
              "  <style>\n",
              "    .colab-df-container {\n",
              "      display:flex;\n",
              "      flex-wrap:wrap;\n",
              "      gap: 12px;\n",
              "    }\n",
              "\n",
              "    .colab-df-convert {\n",
              "      background-color: #E8F0FE;\n",
              "      border: none;\n",
              "      border-radius: 50%;\n",
              "      cursor: pointer;\n",
              "      display: none;\n",
              "      fill: #1967D2;\n",
              "      height: 32px;\n",
              "      padding: 0 0 0 0;\n",
              "      width: 32px;\n",
              "    }\n",
              "\n",
              "    .colab-df-convert:hover {\n",
              "      background-color: #E2EBFA;\n",
              "      box-shadow: 0px 1px 2px rgba(60, 64, 67, 0.3), 0px 1px 3px 1px rgba(60, 64, 67, 0.15);\n",
              "      fill: #174EA6;\n",
              "    }\n",
              "\n",
              "    [theme=dark] .colab-df-convert {\n",
              "      background-color: #3B4455;\n",
              "      fill: #D2E3FC;\n",
              "    }\n",
              "\n",
              "    [theme=dark] .colab-df-convert:hover {\n",
              "      background-color: #434B5C;\n",
              "      box-shadow: 0px 1px 3px 1px rgba(0, 0, 0, 0.15);\n",
              "      filter: drop-shadow(0px 1px 2px rgba(0, 0, 0, 0.3));\n",
              "      fill: #FFFFFF;\n",
              "    }\n",
              "  </style>\n",
              "\n",
              "      <script>\n",
              "        const buttonEl =\n",
              "          document.querySelector('#df-0d1f2227-f884-43c0-9f45-9f11ffee5835 button.colab-df-convert');\n",
              "        buttonEl.style.display =\n",
              "          google.colab.kernel.accessAllowed ? 'block' : 'none';\n",
              "\n",
              "        async function convertToInteractive(key) {\n",
              "          const element = document.querySelector('#df-0d1f2227-f884-43c0-9f45-9f11ffee5835');\n",
              "          const dataTable =\n",
              "            await google.colab.kernel.invokeFunction('convertToInteractive',\n",
              "                                                     [key], {});\n",
              "          if (!dataTable) return;\n",
              "\n",
              "          const docLinkHtml = 'Like what you see? Visit the ' +\n",
              "            '<a target=\"_blank\" href=https://colab.research.google.com/notebooks/data_table.ipynb>data table notebook</a>'\n",
              "            + ' to learn more about interactive tables.';\n",
              "          element.innerHTML = '';\n",
              "          dataTable['output_type'] = 'display_data';\n",
              "          await google.colab.output.renderOutput(dataTable, element);\n",
              "          const docLink = document.createElement('div');\n",
              "          docLink.innerHTML = docLinkHtml;\n",
              "          element.appendChild(docLink);\n",
              "        }\n",
              "      </script>\n",
              "    </div>\n",
              "  </div>\n",
              "  "
            ],
            "text/plain": [
              "        beer_ABV  beer_beerId  ...         review_time  year\n",
              "492945       6.2         1339  ... 2008-09-09 23:35:21  2008\n",
              "172728       4.7          689  ... 2005-10-13 08:35:11  2005\n",
              "409699       7.5        15881  ... 2009-02-19 01:29:41  2009\n",
              "517331       5.0          571  ... 2008-02-20 03:05:01  2008\n",
              "172704       4.7          689  ... 2005-12-23 00:05:52  2005\n",
              "\n",
              "[5 rows x 14 columns]"
            ]
          },
          "metadata": {},
          "execution_count": 94
        }
      ]
    },
    {
      "cell_type": "code",
      "source": [
        "data['year'].count()"
      ],
      "metadata": {
        "colab": {
          "base_uri": "https://localhost:8080/"
        },
        "id": "dR53khijIhBQ",
        "outputId": "5b5cf6ea-9a33-4885-99ca-f234f9616dee"
      },
      "execution_count": 95,
      "outputs": [
        {
          "output_type": "execute_result",
          "data": {
            "text/plain": [
              "502766"
            ]
          },
          "metadata": {},
          "execution_count": 95
        }
      ]
    },
    {
      "cell_type": "code",
      "source": [
        "data[\"review_overall\"].value_counts()"
      ],
      "metadata": {
        "colab": {
          "base_uri": "https://localhost:8080/"
        },
        "id": "TFJ8G3XUQSwu",
        "outputId": "af236b25-af79-4822-a742-84028e3d6699"
      },
      "execution_count": 96,
      "outputs": [
        {
          "output_type": "execute_result",
          "data": {
            "text/plain": [
              "4.0    187460\n",
              "4.5    106785\n",
              "3.5     93270\n",
              "3.0     50180\n",
              "5.0     30092\n",
              "2.5     17205\n",
              "2.0     11047\n",
              "1.5      3663\n",
              "1.0      3064\n",
              "Name: review_overall, dtype: int64"
            ]
          },
          "metadata": {},
          "execution_count": 96
        }
      ]
    },
    {
      "cell_type": "markdown",
      "source": [
        "AVERAGE OVERALL RATINGS OVER THE YEARS \n",
        "\n",
        "Grouping on Year and getting the mean."
      ],
      "metadata": {
        "id": "bcKq4SNaVHYF"
      }
    },
    {
      "cell_type": "code",
      "source": [
        "Yearly_Avg_Rating=data.groupby(['year'])['review_overall'].mean().reset_index()"
      ],
      "metadata": {
        "id": "cQjAXRTDUDW8"
      },
      "execution_count": 97,
      "outputs": []
    },
    {
      "cell_type": "code",
      "source": [
        "Yearly_Avg_Rating"
      ],
      "metadata": {
        "colab": {
          "base_uri": "https://localhost:8080/",
          "height": 520
        },
        "id": "rA3my0bZVt6e",
        "outputId": "1b0f3785-c422-435e-96a6-52580a0fe234"
      },
      "execution_count": 98,
      "outputs": [
        {
          "output_type": "execute_result",
          "data": {
            "text/html": [
              "\n",
              "  <div id=\"df-def554a0-941c-4226-8b9a-8b54df15fc2f\">\n",
              "    <div class=\"colab-df-container\">\n",
              "      <div>\n",
              "<style scoped>\n",
              "    .dataframe tbody tr th:only-of-type {\n",
              "        vertical-align: middle;\n",
              "    }\n",
              "\n",
              "    .dataframe tbody tr th {\n",
              "        vertical-align: top;\n",
              "    }\n",
              "\n",
              "    .dataframe thead th {\n",
              "        text-align: right;\n",
              "    }\n",
              "</style>\n",
              "<table border=\"1\" class=\"dataframe\">\n",
              "  <thead>\n",
              "    <tr style=\"text-align: right;\">\n",
              "      <th></th>\n",
              "      <th>year</th>\n",
              "      <th>review_overall</th>\n",
              "    </tr>\n",
              "  </thead>\n",
              "  <tbody>\n",
              "    <tr>\n",
              "      <th>0</th>\n",
              "      <td>1998</td>\n",
              "      <td>4.045455</td>\n",
              "    </tr>\n",
              "    <tr>\n",
              "      <th>1</th>\n",
              "      <td>1999</td>\n",
              "      <td>4.000000</td>\n",
              "    </tr>\n",
              "    <tr>\n",
              "      <th>2</th>\n",
              "      <td>2000</td>\n",
              "      <td>4.241379</td>\n",
              "    </tr>\n",
              "    <tr>\n",
              "      <th>3</th>\n",
              "      <td>2001</td>\n",
              "      <td>3.963687</td>\n",
              "    </tr>\n",
              "    <tr>\n",
              "      <th>4</th>\n",
              "      <td>2002</td>\n",
              "      <td>3.822886</td>\n",
              "    </tr>\n",
              "    <tr>\n",
              "      <th>5</th>\n",
              "      <td>2003</td>\n",
              "      <td>3.775693</td>\n",
              "    </tr>\n",
              "    <tr>\n",
              "      <th>6</th>\n",
              "      <td>2004</td>\n",
              "      <td>3.807436</td>\n",
              "    </tr>\n",
              "    <tr>\n",
              "      <th>7</th>\n",
              "      <td>2005</td>\n",
              "      <td>3.846319</td>\n",
              "    </tr>\n",
              "    <tr>\n",
              "      <th>8</th>\n",
              "      <td>2006</td>\n",
              "      <td>3.809792</td>\n",
              "    </tr>\n",
              "    <tr>\n",
              "      <th>9</th>\n",
              "      <td>2007</td>\n",
              "      <td>3.820352</td>\n",
              "    </tr>\n",
              "    <tr>\n",
              "      <th>10</th>\n",
              "      <td>2008</td>\n",
              "      <td>3.841215</td>\n",
              "    </tr>\n",
              "    <tr>\n",
              "      <th>11</th>\n",
              "      <td>2009</td>\n",
              "      <td>3.869223</td>\n",
              "    </tr>\n",
              "    <tr>\n",
              "      <th>12</th>\n",
              "      <td>2010</td>\n",
              "      <td>3.870411</td>\n",
              "    </tr>\n",
              "    <tr>\n",
              "      <th>13</th>\n",
              "      <td>2011</td>\n",
              "      <td>3.834009</td>\n",
              "    </tr>\n",
              "    <tr>\n",
              "      <th>14</th>\n",
              "      <td>2012</td>\n",
              "      <td>3.839438</td>\n",
              "    </tr>\n",
              "  </tbody>\n",
              "</table>\n",
              "</div>\n",
              "      <button class=\"colab-df-convert\" onclick=\"convertToInteractive('df-def554a0-941c-4226-8b9a-8b54df15fc2f')\"\n",
              "              title=\"Convert this dataframe to an interactive table.\"\n",
              "              style=\"display:none;\">\n",
              "        \n",
              "  <svg xmlns=\"http://www.w3.org/2000/svg\" height=\"24px\"viewBox=\"0 0 24 24\"\n",
              "       width=\"24px\">\n",
              "    <path d=\"M0 0h24v24H0V0z\" fill=\"none\"/>\n",
              "    <path d=\"M18.56 5.44l.94 2.06.94-2.06 2.06-.94-2.06-.94-.94-2.06-.94 2.06-2.06.94zm-11 1L8.5 8.5l.94-2.06 2.06-.94-2.06-.94L8.5 2.5l-.94 2.06-2.06.94zm10 10l.94 2.06.94-2.06 2.06-.94-2.06-.94-.94-2.06-.94 2.06-2.06.94z\"/><path d=\"M17.41 7.96l-1.37-1.37c-.4-.4-.92-.59-1.43-.59-.52 0-1.04.2-1.43.59L10.3 9.45l-7.72 7.72c-.78.78-.78 2.05 0 2.83L4 21.41c.39.39.9.59 1.41.59.51 0 1.02-.2 1.41-.59l7.78-7.78 2.81-2.81c.8-.78.8-2.07 0-2.86zM5.41 20L4 18.59l7.72-7.72 1.47 1.35L5.41 20z\"/>\n",
              "  </svg>\n",
              "      </button>\n",
              "      \n",
              "  <style>\n",
              "    .colab-df-container {\n",
              "      display:flex;\n",
              "      flex-wrap:wrap;\n",
              "      gap: 12px;\n",
              "    }\n",
              "\n",
              "    .colab-df-convert {\n",
              "      background-color: #E8F0FE;\n",
              "      border: none;\n",
              "      border-radius: 50%;\n",
              "      cursor: pointer;\n",
              "      display: none;\n",
              "      fill: #1967D2;\n",
              "      height: 32px;\n",
              "      padding: 0 0 0 0;\n",
              "      width: 32px;\n",
              "    }\n",
              "\n",
              "    .colab-df-convert:hover {\n",
              "      background-color: #E2EBFA;\n",
              "      box-shadow: 0px 1px 2px rgba(60, 64, 67, 0.3), 0px 1px 3px 1px rgba(60, 64, 67, 0.15);\n",
              "      fill: #174EA6;\n",
              "    }\n",
              "\n",
              "    [theme=dark] .colab-df-convert {\n",
              "      background-color: #3B4455;\n",
              "      fill: #D2E3FC;\n",
              "    }\n",
              "\n",
              "    [theme=dark] .colab-df-convert:hover {\n",
              "      background-color: #434B5C;\n",
              "      box-shadow: 0px 1px 3px 1px rgba(0, 0, 0, 0.15);\n",
              "      filter: drop-shadow(0px 1px 2px rgba(0, 0, 0, 0.3));\n",
              "      fill: #FFFFFF;\n",
              "    }\n",
              "  </style>\n",
              "\n",
              "      <script>\n",
              "        const buttonEl =\n",
              "          document.querySelector('#df-def554a0-941c-4226-8b9a-8b54df15fc2f button.colab-df-convert');\n",
              "        buttonEl.style.display =\n",
              "          google.colab.kernel.accessAllowed ? 'block' : 'none';\n",
              "\n",
              "        async function convertToInteractive(key) {\n",
              "          const element = document.querySelector('#df-def554a0-941c-4226-8b9a-8b54df15fc2f');\n",
              "          const dataTable =\n",
              "            await google.colab.kernel.invokeFunction('convertToInteractive',\n",
              "                                                     [key], {});\n",
              "          if (!dataTable) return;\n",
              "\n",
              "          const docLinkHtml = 'Like what you see? Visit the ' +\n",
              "            '<a target=\"_blank\" href=https://colab.research.google.com/notebooks/data_table.ipynb>data table notebook</a>'\n",
              "            + ' to learn more about interactive tables.';\n",
              "          element.innerHTML = '';\n",
              "          dataTable['output_type'] = 'display_data';\n",
              "          await google.colab.output.renderOutput(dataTable, element);\n",
              "          const docLink = document.createElement('div');\n",
              "          docLink.innerHTML = docLinkHtml;\n",
              "          element.appendChild(docLink);\n",
              "        }\n",
              "      </script>\n",
              "    </div>\n",
              "  </div>\n",
              "  "
            ],
            "text/plain": [
              "    year  review_overall\n",
              "0   1998        4.045455\n",
              "1   1999        4.000000\n",
              "2   2000        4.241379\n",
              "3   2001        3.963687\n",
              "4   2002        3.822886\n",
              "5   2003        3.775693\n",
              "6   2004        3.807436\n",
              "7   2005        3.846319\n",
              "8   2006        3.809792\n",
              "9   2007        3.820352\n",
              "10  2008        3.841215\n",
              "11  2009        3.869223\n",
              "12  2010        3.870411\n",
              "13  2011        3.834009\n",
              "14  2012        3.839438"
            ]
          },
          "metadata": {},
          "execution_count": 98
        }
      ]
    },
    {
      "cell_type": "code",
      "source": [
        "Yearly_Avg_Rating.plot(x=\"year\",y=[\"review_overall\"],kind=\"bar\",title=\"AVERAGE OVERALL RATINGS OVER THE YEARS\")\n",
        "plt.show()"
      ],
      "metadata": {
        "colab": {
          "base_uri": "https://localhost:8080/",
          "height": 311
        },
        "id": "5ekvcuA0UiNm",
        "outputId": "7b53b01e-7f46-4e70-c145-90cfe72a1b3a"
      },
      "execution_count": 99,
      "outputs": [
        {
          "output_type": "display_data",
          "data": {
            "image/png": "[encoded data removed]",
            "text/plain": [
              "<Figure size 432x288 with 1 Axes>"
            ]
          },
          "metadata": {
            "needs_background": "light"
          }
        }
      ]
    },
    {
      "cell_type": "markdown",
      "source": [
        "> Year 2000 got the highest overall rating of 4.24 followed by year 1998 and 1999 with overall rating of 4.045 and 4.000 respectively."
      ],
      "metadata": {
        "id": "udbxmji_tg-y"
      }
    },
    {
      "cell_type": "markdown",
      "source": [
        "---"
      ],
      "metadata": {
        "id": "N9T_XGOwuB-Q"
      }
    },
    {
      "cell_type": "code",
      "source": [
        "condition = data[\"year\"].astype(int) < 2022\n",
        "\n",
        "prodcount = (data[condition][[\"year\", \"review_overall\"]]\n",
        "             .groupby(\"year\")\n",
        "             .count()\n",
        "            )\n",
        "\n",
        "prodcount.tail()"
      ],
      "metadata": {
        "colab": {
          "base_uri": "https://localhost:8080/",
          "height": 237
        },
        "id": "tJNjlJioK-cu",
        "outputId": "3db5b509-e6ee-46c8-92ed-ad0a039daed6"
      },
      "execution_count": 100,
      "outputs": [
        {
          "output_type": "execute_result",
          "data": {
            "text/html": [
              "\n",
              "  <div id=\"df-3756a097-0c39-42b4-b306-f38b4629e75a\">\n",
              "    <div class=\"colab-df-container\">\n",
              "      <div>\n",
              "<style scoped>\n",
              "    .dataframe tbody tr th:only-of-type {\n",
              "        vertical-align: middle;\n",
              "    }\n",
              "\n",
              "    .dataframe tbody tr th {\n",
              "        vertical-align: top;\n",
              "    }\n",
              "\n",
              "    .dataframe thead th {\n",
              "        text-align: right;\n",
              "    }\n",
              "</style>\n",
              "<table border=\"1\" class=\"dataframe\">\n",
              "  <thead>\n",
              "    <tr style=\"text-align: right;\">\n",
              "      <th></th>\n",
              "      <th>review_overall</th>\n",
              "    </tr>\n",
              "    <tr>\n",
              "      <th>year</th>\n",
              "      <th></th>\n",
              "    </tr>\n",
              "  </thead>\n",
              "  <tbody>\n",
              "    <tr>\n",
              "      <th>2008</th>\n",
              "      <td>65765</td>\n",
              "    </tr>\n",
              "    <tr>\n",
              "      <th>2009</th>\n",
              "      <td>80293</td>\n",
              "    </tr>\n",
              "    <tr>\n",
              "      <th>2010</th>\n",
              "      <td>90351</td>\n",
              "    </tr>\n",
              "    <tr>\n",
              "      <th>2011</th>\n",
              "      <td>107021</td>\n",
              "    </tr>\n",
              "    <tr>\n",
              "      <th>2012</th>\n",
              "      <td>3058</td>\n",
              "    </tr>\n",
              "  </tbody>\n",
              "</table>\n",
              "</div>\n",
              "      <button class=\"colab-df-convert\" onclick=\"convertToInteractive('df-3756a097-0c39-42b4-b306-f38b4629e75a')\"\n",
              "              title=\"Convert this dataframe to an interactive table.\"\n",
              "              style=\"display:none;\">\n",
              "        \n",
              "  <svg xmlns=\"http://www.w3.org/2000/svg\" height=\"24px\"viewBox=\"0 0 24 24\"\n",
              "       width=\"24px\">\n",
              "    <path d=\"M0 0h24v24H0V0z\" fill=\"none\"/>\n",
              "    <path d=\"M18.56 5.44l.94 2.06.94-2.06 2.06-.94-2.06-.94-.94-2.06-.94 2.06-2.06.94zm-11 1L8.5 8.5l.94-2.06 2.06-.94-2.06-.94L8.5 2.5l-.94 2.06-2.06.94zm10 10l.94 2.06.94-2.06 2.06-.94-2.06-.94-.94-2.06-.94 2.06-2.06.94z\"/><path d=\"M17.41 7.96l-1.37-1.37c-.4-.4-.92-.59-1.43-.59-.52 0-1.04.2-1.43.59L10.3 9.45l-7.72 7.72c-.78.78-.78 2.05 0 2.83L4 21.41c.39.39.9.59 1.41.59.51 0 1.02-.2 1.41-.59l7.78-7.78 2.81-2.81c.8-.78.8-2.07 0-2.86zM5.41 20L4 18.59l7.72-7.72 1.47 1.35L5.41 20z\"/>\n",
              "  </svg>\n",
              "      </button>\n",
              "      \n",
              "  <style>\n",
              "    .colab-df-container {\n",
              "      display:flex;\n",
              "      flex-wrap:wrap;\n",
              "      gap: 12px;\n",
              "    }\n",
              "\n",
              "    .colab-df-convert {\n",
              "      background-color: #E8F0FE;\n",
              "      border: none;\n",
              "      border-radius: 50%;\n",
              "      cursor: pointer;\n",
              "      display: none;\n",
              "      fill: #1967D2;\n",
              "      height: 32px;\n",
              "      padding: 0 0 0 0;\n",
              "      width: 32px;\n",
              "    }\n",
              "\n",
              "    .colab-df-convert:hover {\n",
              "      background-color: #E2EBFA;\n",
              "      box-shadow: 0px 1px 2px rgba(60, 64, 67, 0.3), 0px 1px 3px 1px rgba(60, 64, 67, 0.15);\n",
              "      fill: #174EA6;\n",
              "    }\n",
              "\n",
              "    [theme=dark] .colab-df-convert {\n",
              "      background-color: #3B4455;\n",
              "      fill: #D2E3FC;\n",
              "    }\n",
              "\n",
              "    [theme=dark] .colab-df-convert:hover {\n",
              "      background-color: #434B5C;\n",
              "      box-shadow: 0px 1px 3px 1px rgba(0, 0, 0, 0.15);\n",
              "      filter: drop-shadow(0px 1px 2px rgba(0, 0, 0, 0.3));\n",
              "      fill: #FFFFFF;\n",
              "    }\n",
              "  </style>\n",
              "\n",
              "      <script>\n",
              "        const buttonEl =\n",
              "          document.querySelector('#df-3756a097-0c39-42b4-b306-f38b4629e75a button.colab-df-convert');\n",
              "        buttonEl.style.display =\n",
              "          google.colab.kernel.accessAllowed ? 'block' : 'none';\n",
              "\n",
              "        async function convertToInteractive(key) {\n",
              "          const element = document.querySelector('#df-3756a097-0c39-42b4-b306-f38b4629e75a');\n",
              "          const dataTable =\n",
              "            await google.colab.kernel.invokeFunction('convertToInteractive',\n",
              "                                                     [key], {});\n",
              "          if (!dataTable) return;\n",
              "\n",
              "          const docLinkHtml = 'Like what you see? Visit the ' +\n",
              "            '<a target=\"_blank\" href=https://colab.research.google.com/notebooks/data_table.ipynb>data table notebook</a>'\n",
              "            + ' to learn more about interactive tables.';\n",
              "          element.innerHTML = '';\n",
              "          dataTable['output_type'] = 'display_data';\n",
              "          await google.colab.output.renderOutput(dataTable, element);\n",
              "          const docLink = document.createElement('div');\n",
              "          docLink.innerHTML = docLinkHtml;\n",
              "          element.appendChild(docLink);\n",
              "        }\n",
              "      </script>\n",
              "    </div>\n",
              "  </div>\n",
              "  "
            ],
            "text/plain": [
              "      review_overall\n",
              "year                \n",
              "2008           65765\n",
              "2009           80293\n",
              "2010           90351\n",
              "2011          107021\n",
              "2012            3058"
            ]
          },
          "metadata": {},
          "execution_count": 100
        }
      ]
    },
    {
      "cell_type": "code",
      "source": [
        "(prodcount\n",
        " .rolling(5).mean().rename(columns={\"review_overall\":\"count\"})\n",
        " .plot(figsize=(15,5),\n",
        "       )\n",
        ")"
      ],
      "metadata": {
        "colab": {
          "base_uri": "https://localhost:8080/",
          "height": 351
        },
        "id": "BRPiWrGTKvcY",
        "outputId": "30eff471-0ef1-468b-c7f8-65441956ef10"
      },
      "execution_count": 101,
      "outputs": [
        {
          "output_type": "execute_result",
          "data": {
            "text/plain": [
              "<matplotlib.axes._subplots.AxesSubplot at 0x7f22b2ad82d0>"
            ]
          },
          "metadata": {},
          "execution_count": 101
        },
        {
          "output_type": "display_data",
          "data": {
            "image/png": "[encoded data removed]",
            "text/plain": [
              "<Figure size 1080x360 with 1 Axes>"
            ]
          },
          "metadata": {
            "needs_background": "light"
          }
        }
      ]
    },
    {
      "cell_type": "markdown",
      "source": [
        "> Year 2011 got higest number of reviews"
      ],
      "metadata": {
        "id": "4ieSggKGuFlP"
      }
    },
    {
      "cell_type": "markdown",
      "source": [
        "---\n",
        "---\n",
        "---"
      ],
      "metadata": {
        "id": "pcKoVCxBuOaN"
      }
    },
    {
      "cell_type": "markdown",
      "source": [
        "### **3)Based on the user’s ratings which factors are important among taste, aroma, appearance, and palette?**"
      ],
      "metadata": {
        "id": "etWUxFq3afDL"
      }
    },
    {
      "cell_type": "markdown",
      "source": [
        "Correlation with Target"
      ],
      "metadata": {
        "id": "jzsS0paNuyIx"
      }
    },
    {
      "cell_type": "code",
      "source": [
        "# Method 1 - Heatmap: Pandas\n",
        "# List of numeric factors to include\n",
        "factors = [\"review_appearance\",\"review_aroma\",\"review_palette\",\"review_taste\", \"review_overall\"]\n",
        "\n",
        "# Create a correlation matrix \n",
        "corr_metrics = data[factors].corr()\n",
        "corr_metrics.style.background_gradient(cmap='Blues')"
      ],
      "metadata": {
        "colab": {
          "base_uri": "https://localhost:8080/",
          "height": 206
        },
        "id": "aTFa1re-XnnZ",
        "outputId": "abeda0eb-be47-4a74-e786-824deb4d702b"
      },
      "execution_count": 102,
      "outputs": [
        {
          "output_type": "execute_result",
          "data": {
            "text/html": [
              "<style  type=\"text/css\" >\n",
              "#T_bf718434_671b_11ec_8f10_0242ac1c0002row0_col0,#T_bf718434_671b_11ec_8f10_0242ac1c0002row1_col1,#T_bf718434_671b_11ec_8f10_0242ac1c0002row2_col2,#T_bf718434_671b_11ec_8f10_0242ac1c0002row3_col3,#T_bf718434_671b_11ec_8f10_0242ac1c0002row4_col4{\n",
              "            background-color:  #08306b;\n",
              "            color:  #f1f1f1;\n",
              "        }#T_bf718434_671b_11ec_8f10_0242ac1c0002row0_col1,#T_bf718434_671b_11ec_8f10_0242ac1c0002row0_col2,#T_bf718434_671b_11ec_8f10_0242ac1c0002row0_col3,#T_bf718434_671b_11ec_8f10_0242ac1c0002row0_col4,#T_bf718434_671b_11ec_8f10_0242ac1c0002row4_col0{\n",
              "            background-color:  #f7fbff;\n",
              "            color:  #000000;\n",
              "        }#T_bf718434_671b_11ec_8f10_0242ac1c0002row1_col0{\n",
              "            background-color:  #e5eff9;\n",
              "            color:  #000000;\n",
              "        }#T_bf718434_671b_11ec_8f10_0242ac1c0002row1_col2{\n",
              "            background-color:  #a6cee4;\n",
              "            color:  #000000;\n",
              "        }#T_bf718434_671b_11ec_8f10_0242ac1c0002row1_col3{\n",
              "            background-color:  #9cc9e1;\n",
              "            color:  #000000;\n",
              "        }#T_bf718434_671b_11ec_8f10_0242ac1c0002row1_col4{\n",
              "            background-color:  #529dcc;\n",
              "            color:  #000000;\n",
              "        }#T_bf718434_671b_11ec_8f10_0242ac1c0002row2_col0,#T_bf718434_671b_11ec_8f10_0242ac1c0002row4_col2{\n",
              "            background-color:  #dfecf7;\n",
              "            color:  #000000;\n",
              "        }#T_bf718434_671b_11ec_8f10_0242ac1c0002row2_col1{\n",
              "            background-color:  #a1cbe2;\n",
              "            color:  #000000;\n",
              "        }#T_bf718434_671b_11ec_8f10_0242ac1c0002row2_col3{\n",
              "            background-color:  #e2edf8;\n",
              "            color:  #000000;\n",
              "        }#T_bf718434_671b_11ec_8f10_0242ac1c0002row2_col4{\n",
              "            background-color:  #ccdff1;\n",
              "            color:  #000000;\n",
              "        }#T_bf718434_671b_11ec_8f10_0242ac1c0002row3_col0{\n",
              "            background-color:  #dceaf6;\n",
              "            color:  #000000;\n",
              "        }#T_bf718434_671b_11ec_8f10_0242ac1c0002row3_col1{\n",
              "            background-color:  #91c3de;\n",
              "            color:  #000000;\n",
              "        }#T_bf718434_671b_11ec_8f10_0242ac1c0002row3_col2{\n",
              "            background-color:  #dfebf7;\n",
              "            color:  #000000;\n",
              "        }#T_bf718434_671b_11ec_8f10_0242ac1c0002row3_col4{\n",
              "            background-color:  #94c4df;\n",
              "            color:  #000000;\n",
              "        }#T_bf718434_671b_11ec_8f10_0242ac1c0002row4_col1{\n",
              "            background-color:  #60a7d2;\n",
              "            color:  #000000;\n",
              "        }#T_bf718434_671b_11ec_8f10_0242ac1c0002row4_col3{\n",
              "            background-color:  #b4d3e9;\n",
              "            color:  #000000;\n",
              "        }</style><table id=\"T_bf718434_671b_11ec_8f10_0242ac1c0002\" class=\"dataframe\"><thead>    <tr>        <th class=\"blank level0\" ></th>        <th class=\"col_heading level0 col0\" >review_appearance</th>        <th class=\"col_heading level0 col1\" >review_aroma</th>        <th class=\"col_heading level0 col2\" >review_palette</th>        <th class=\"col_heading level0 col3\" >review_taste</th>        <th class=\"col_heading level0 col4\" >review_overall</th>    </tr></thead><tbody>\n",
              "                <tr>\n",
              "                        <th id=\"T_bf718434_671b_11ec_8f10_0242ac1c0002level0_row0\" class=\"row_heading level0 row0\" >review_appearance</th>\n",
              "                        <td id=\"T_bf718434_671b_11ec_8f10_0242ac1c0002row0_col0\" class=\"data row0 col0\" >1.000000</td>\n",
              "                        <td id=\"T_bf718434_671b_11ec_8f10_0242ac1c0002row0_col1\" class=\"data row0 col1\" >0.530761</td>\n",
              "                        <td id=\"T_bf718434_671b_11ec_8f10_0242ac1c0002row0_col2\" class=\"data row0 col2\" >0.544353</td>\n",
              "                        <td id=\"T_bf718434_671b_11ec_8f10_0242ac1c0002row0_col3\" class=\"data row0 col3\" >0.551510</td>\n",
              "                        <td id=\"T_bf718434_671b_11ec_8f10_0242ac1c0002row0_col4\" class=\"data row0 col4\" >0.482716</td>\n",
              "            </tr>\n",
              "            <tr>\n",
              "                        <th id=\"T_bf718434_671b_11ec_8f10_0242ac1c0002level0_row1\" class=\"row_heading level0 row1\" >review_aroma</th>\n",
              "                        <td id=\"T_bf718434_671b_11ec_8f10_0242ac1c0002row1_col0\" class=\"data row1 col0\" >0.530761</td>\n",
              "                        <td id=\"T_bf718434_671b_11ec_8f10_0242ac1c0002row1_col1\" class=\"data row1 col1\" >1.000000</td>\n",
              "                        <td id=\"T_bf718434_671b_11ec_8f10_0242ac1c0002row1_col2\" class=\"data row1 col2\" >0.702969</td>\n",
              "                        <td id=\"T_bf718434_671b_11ec_8f10_0242ac1c0002row1_col3\" class=\"data row1 col3\" >0.722349</td>\n",
              "                        <td id=\"T_bf718434_671b_11ec_8f10_0242ac1c0002row1_col4\" class=\"data row1 col4\" >0.780248</td>\n",
              "            </tr>\n",
              "            <tr>\n",
              "                        <th id=\"T_bf718434_671b_11ec_8f10_0242ac1c0002level0_row2\" class=\"row_heading level0 row2\" >review_palette</th>\n",
              "                        <td id=\"T_bf718434_671b_11ec_8f10_0242ac1c0002row2_col0\" class=\"data row2 col0\" >0.544353</td>\n",
              "                        <td id=\"T_bf718434_671b_11ec_8f10_0242ac1c0002row2_col1\" class=\"data row2 col1\" >0.702969</td>\n",
              "                        <td id=\"T_bf718434_671b_11ec_8f10_0242ac1c0002row2_col2\" class=\"data row2 col2\" >1.000000</td>\n",
              "                        <td id=\"T_bf718434_671b_11ec_8f10_0242ac1c0002row2_col3\" class=\"data row2 col3\" >0.600340</td>\n",
              "                        <td id=\"T_bf718434_671b_11ec_8f10_0242ac1c0002row2_col4\" class=\"data row2 col4\" >0.597762</td>\n",
              "            </tr>\n",
              "            <tr>\n",
              "                        <th id=\"T_bf718434_671b_11ec_8f10_0242ac1c0002level0_row3\" class=\"row_heading level0 row3\" >review_taste</th>\n",
              "                        <td id=\"T_bf718434_671b_11ec_8f10_0242ac1c0002row3_col0\" class=\"data row3 col0\" >0.551510</td>\n",
              "                        <td id=\"T_bf718434_671b_11ec_8f10_0242ac1c0002row3_col1\" class=\"data row3 col1\" >0.722349</td>\n",
              "                        <td id=\"T_bf718434_671b_11ec_8f10_0242ac1c0002row3_col2\" class=\"data row3 col2\" >0.600340</td>\n",
              "                        <td id=\"T_bf718434_671b_11ec_8f10_0242ac1c0002row3_col3\" class=\"data row3 col3\" >1.000000</td>\n",
              "                        <td id=\"T_bf718434_671b_11ec_8f10_0242ac1c0002row3_col4\" class=\"data row3 col4\" >0.688937</td>\n",
              "            </tr>\n",
              "            <tr>\n",
              "                        <th id=\"T_bf718434_671b_11ec_8f10_0242ac1c0002level0_row4\" class=\"row_heading level0 row4\" >review_overall</th>\n",
              "                        <td id=\"T_bf718434_671b_11ec_8f10_0242ac1c0002row4_col0\" class=\"data row4 col0\" >0.482716</td>\n",
              "                        <td id=\"T_bf718434_671b_11ec_8f10_0242ac1c0002row4_col1\" class=\"data row4 col1\" >0.780248</td>\n",
              "                        <td id=\"T_bf718434_671b_11ec_8f10_0242ac1c0002row4_col2\" class=\"data row4 col2\" >0.597762</td>\n",
              "                        <td id=\"T_bf718434_671b_11ec_8f10_0242ac1c0002row4_col3\" class=\"data row4 col3\" >0.688937</td>\n",
              "                        <td id=\"T_bf718434_671b_11ec_8f10_0242ac1c0002row4_col4\" class=\"data row4 col4\" >1.000000</td>\n",
              "            </tr>\n",
              "    </tbody></table>"
            ],
            "text/plain": [
              "<pandas.io.formats.style.Styler at 0x7f22b2a430d0>"
            ]
          },
          "metadata": {},
          "execution_count": 102
        }
      ]
    },
    {
      "cell_type": "markdown",
      "source": [
        "\n",
        "The heatmap above shows the correlation of review features. The darker the color, the higher the correlation between the two features.\n",
        "\n",
        "We can get the information as follows:\n",
        "\n",
        "review_aroma has the highest correlation with review_overall, at 0.7802, followed by review_test, at 0.722.\n"
      ],
      "metadata": {
        "id": "gTT06M0nWNOd"
      }
    },
    {
      "cell_type": "code",
      "source": [
        "import seaborn as sns"
      ],
      "metadata": {
        "id": "ueYowHLLbz1O"
      },
      "execution_count": 103,
      "outputs": []
    },
    {
      "cell_type": "code",
      "source": [
        "# Method 2 - Bar Chart: Seaborn\n",
        "# Correlation with target review_overall\n",
        "factor_corr = corr_metrics[['review_overall']]\\\n",
        "    .drop(['review_overall'])\\\n",
        "    .reset_index()\\\n",
        "    .sort_values('review_overall', ascending=True)\n",
        "\n",
        "# Plot it with Seaborn just for fun\n",
        "sns.barplot(data=factor_corr.sort_values('review_overall', ascending=False), y=\"index\",x=\"review_overall\")\n",
        "plt.ylabel(\"\"); plt.xlabel(\"Correlation\")\n",
        "plt.title(\"Correlation with Target: review_overall\")\n",
        "plt.figure(figsize=(12,8))\n",
        "plt.show()"
      ],
      "metadata": {
        "colab": {
          "base_uri": "https://localhost:8080/",
          "height": 313
        },
        "id": "eogxVMAcbf1R",
        "outputId": "20a471ff-cb23-44f2-f188-9edebe9bcceb"
      },
      "execution_count": 104,
      "outputs": [
        {
          "output_type": "display_data",
          "data": {
            "image/png": "[encoded data removed]",
            "text/plain": [
              "<Figure size 432x288 with 1 Axes>"
            ]
          },
          "metadata": {
            "needs_background": "light"
          }
        },
        {
          "output_type": "display_data",
          "data": {
            "text/plain": [
              "<Figure size 864x576 with 0 Axes>"
            ]
          },
          "metadata": {}
        }
      ]
    },
    {
      "cell_type": "markdown",
      "source": [
        "There is high correlation between review_aroma and the target variable review_overall."
      ],
      "metadata": {
        "id": "mUI9_WO7cCE9"
      }
    },
    {
      "cell_type": "markdown",
      "source": [
        "---\n",
        "---\n",
        "---"
      ],
      "metadata": {
        "id": "tO5c-icrvxbZ"
      }
    },
    {
      "cell_type": "markdown",
      "source": [
        "### **4) If you were to recommend 3 beers to your friends based on this data which ones will you recommend?**"
      ],
      "metadata": {
        "id": "9CoBfRVAk-tN"
      }
    },
    {
      "cell_type": "markdown",
      "source": [
        "Simplest Recommendation\n",
        "\n",
        "If I have to recommend 3 beers to somebody who is new to beer (i.e. does not have a style preference), then I'll first narrow down to the most popular beers and subsequently find the highest rated beers amongst that subset.\n",
        "\n"
      ],
      "metadata": {
        "id": "7EsYI7gdrbLZ"
      }
    },
    {
      "cell_type": "code",
      "source": [
        "# Pivot table with overall rating\n",
        "top_3_rec = data[['beer_name','review_overall']]\\\n",
        "    .pivot_table(index=\"beer_name\", aggfunc=(\"count\",'mean','median'))\\\n",
        "    .dropna()\n",
        "\n",
        "# Rename columns and flatten pivot table\n",
        "top_3_rec.columns = top_3_rec.columns.to_series().str.join('_')\n",
        "top_3_rec.reset_index(inplace=True)\n",
        "\n",
        "# Filter for highest rated beers\n",
        "top_3_rec = top_3_rec.query('review_overall_count >= 1000')\\\n",
        "  .sort_values('review_overall_mean', ascending=False)\\\n",
        "  .head(3)\n",
        "\n",
        "# Check it out\n",
        "top_3_rec"
      ],
      "metadata": {
        "colab": {
          "base_uri": "https://localhost:8080/",
          "height": 143
        },
        "id": "8bjg50f9rMeC",
        "outputId": "2456f86a-d74b-47ca-da0d-b177857fb46b"
      },
      "execution_count": 105,
      "outputs": [
        {
          "output_type": "execute_result",
          "data": {
            "text/html": [
              "\n",
              "  <div id=\"df-9dd5b43e-b2f5-480a-ab42-51a50c9bb9a8\">\n",
              "    <div class=\"colab-df-container\">\n",
              "      <div>\n",
              "<style scoped>\n",
              "    .dataframe tbody tr th:only-of-type {\n",
              "        vertical-align: middle;\n",
              "    }\n",
              "\n",
              "    .dataframe tbody tr th {\n",
              "        vertical-align: top;\n",
              "    }\n",
              "\n",
              "    .dataframe thead th {\n",
              "        text-align: right;\n",
              "    }\n",
              "</style>\n",
              "<table border=\"1\" class=\"dataframe\">\n",
              "  <thead>\n",
              "    <tr style=\"text-align: right;\">\n",
              "      <th></th>\n",
              "      <th>beer_name</th>\n",
              "      <th>review_overall_count</th>\n",
              "      <th>review_overall_mean</th>\n",
              "      <th>review_overall_median</th>\n",
              "    </tr>\n",
              "  </thead>\n",
              "  <tbody>\n",
              "    <tr>\n",
              "      <th>4661</th>\n",
              "      <td>Founders KBS (Kentucky Breakfast Stout)</td>\n",
              "      <td>1873</td>\n",
              "      <td>4.402029</td>\n",
              "      <td>4.5</td>\n",
              "    </tr>\n",
              "    <tr>\n",
              "      <th>12865</th>\n",
              "      <td>Tröegs Nugget Nectar</td>\n",
              "      <td>1878</td>\n",
              "      <td>4.394835</td>\n",
              "      <td>4.5</td>\n",
              "    </tr>\n",
              "    <tr>\n",
              "      <th>4614</th>\n",
              "      <td>Founders Breakfast Stout</td>\n",
              "      <td>2443</td>\n",
              "      <td>4.359394</td>\n",
              "      <td>4.5</td>\n",
              "    </tr>\n",
              "  </tbody>\n",
              "</table>\n",
              "</div>\n",
              "      <button class=\"colab-df-convert\" onclick=\"convertToInteractive('df-9dd5b43e-b2f5-480a-ab42-51a50c9bb9a8')\"\n",
              "              title=\"Convert this dataframe to an interactive table.\"\n",
              "              style=\"display:none;\">\n",
              "        \n",
              "  <svg xmlns=\"http://www.w3.org/2000/svg\" height=\"24px\"viewBox=\"0 0 24 24\"\n",
              "       width=\"24px\">\n",
              "    <path d=\"M0 0h24v24H0V0z\" fill=\"none\"/>\n",
              "    <path d=\"M18.56 5.44l.94 2.06.94-2.06 2.06-.94-2.06-.94-.94-2.06-.94 2.06-2.06.94zm-11 1L8.5 8.5l.94-2.06 2.06-.94-2.06-.94L8.5 2.5l-.94 2.06-2.06.94zm10 10l.94 2.06.94-2.06 2.06-.94-2.06-.94-.94-2.06-.94 2.06-2.06.94z\"/><path d=\"M17.41 7.96l-1.37-1.37c-.4-.4-.92-.59-1.43-.59-.52 0-1.04.2-1.43.59L10.3 9.45l-7.72 7.72c-.78.78-.78 2.05 0 2.83L4 21.41c.39.39.9.59 1.41.59.51 0 1.02-.2 1.41-.59l7.78-7.78 2.81-2.81c.8-.78.8-2.07 0-2.86zM5.41 20L4 18.59l7.72-7.72 1.47 1.35L5.41 20z\"/>\n",
              "  </svg>\n",
              "      </button>\n",
              "      \n",
              "  <style>\n",
              "    .colab-df-container {\n",
              "      display:flex;\n",
              "      flex-wrap:wrap;\n",
              "      gap: 12px;\n",
              "    }\n",
              "\n",
              "    .colab-df-convert {\n",
              "      background-color: #E8F0FE;\n",
              "      border: none;\n",
              "      border-radius: 50%;\n",
              "      cursor: pointer;\n",
              "      display: none;\n",
              "      fill: #1967D2;\n",
              "      height: 32px;\n",
              "      padding: 0 0 0 0;\n",
              "      width: 32px;\n",
              "    }\n",
              "\n",
              "    .colab-df-convert:hover {\n",
              "      background-color: #E2EBFA;\n",
              "      box-shadow: 0px 1px 2px rgba(60, 64, 67, 0.3), 0px 1px 3px 1px rgba(60, 64, 67, 0.15);\n",
              "      fill: #174EA6;\n",
              "    }\n",
              "\n",
              "    [theme=dark] .colab-df-convert {\n",
              "      background-color: #3B4455;\n",
              "      fill: #D2E3FC;\n",
              "    }\n",
              "\n",
              "    [theme=dark] .colab-df-convert:hover {\n",
              "      background-color: #434B5C;\n",
              "      box-shadow: 0px 1px 3px 1px rgba(0, 0, 0, 0.15);\n",
              "      filter: drop-shadow(0px 1px 2px rgba(0, 0, 0, 0.3));\n",
              "      fill: #FFFFFF;\n",
              "    }\n",
              "  </style>\n",
              "\n",
              "      <script>\n",
              "        const buttonEl =\n",
              "          document.querySelector('#df-9dd5b43e-b2f5-480a-ab42-51a50c9bb9a8 button.colab-df-convert');\n",
              "        buttonEl.style.display =\n",
              "          google.colab.kernel.accessAllowed ? 'block' : 'none';\n",
              "\n",
              "        async function convertToInteractive(key) {\n",
              "          const element = document.querySelector('#df-9dd5b43e-b2f5-480a-ab42-51a50c9bb9a8');\n",
              "          const dataTable =\n",
              "            await google.colab.kernel.invokeFunction('convertToInteractive',\n",
              "                                                     [key], {});\n",
              "          if (!dataTable) return;\n",
              "\n",
              "          const docLinkHtml = 'Like what you see? Visit the ' +\n",
              "            '<a target=\"_blank\" href=https://colab.research.google.com/notebooks/data_table.ipynb>data table notebook</a>'\n",
              "            + ' to learn more about interactive tables.';\n",
              "          element.innerHTML = '';\n",
              "          dataTable['output_type'] = 'display_data';\n",
              "          await google.colab.output.renderOutput(dataTable, element);\n",
              "          const docLink = document.createElement('div');\n",
              "          docLink.innerHTML = docLinkHtml;\n",
              "          element.appendChild(docLink);\n",
              "        }\n",
              "      </script>\n",
              "    </div>\n",
              "  </div>\n",
              "  "
            ],
            "text/plain": [
              "                                     beer_name  ...  review_overall_median\n",
              "4661   Founders KBS (Kentucky Breakfast Stout)  ...                    4.5\n",
              "12865                     Tröegs Nugget Nectar  ...                    4.5\n",
              "4614                  Founders Breakfast Stout  ...                    4.5\n",
              "\n",
              "[3 rows x 4 columns]"
            ]
          },
          "metadata": {},
          "execution_count": 105
        }
      ]
    },
    {
      "cell_type": "markdown",
      "source": [
        ">> Above 3 beers can be recommend on the basis of high rating.However we can also use Recommendation Engine with PySpark"
      ],
      "metadata": {
        "id": "TLaURJwmsAbw"
      }
    },
    {
      "cell_type": "code",
      "source": [
        ""
      ],
      "metadata": {
        "id": "xTvW5kiKz59J"
      },
      "execution_count": 105,
      "outputs": []
    },
    {
      "cell_type": "markdown",
      "source": [
        "---\n",
        "---\n",
        "---"
      ],
      "metadata": {
        "id": "trtBdlxUz7YV"
      }
    },
    {
      "cell_type": "markdown",
      "source": [
        "### **5) Which Beer style seems to be the favorite based on reviews written by users?** \n",
        "\n",
        "\n"
      ],
      "metadata": {
        "id": "fgwxTMLjeGmA"
      }
    },
    {
      "cell_type": "markdown",
      "source": [
        "### **6)How does written review compare to overall review score for the beer styles?**"
      ],
      "metadata": {
        "id": "ne_0dHuRz48F"
      }
    },
    {
      "cell_type": "code",
      "source": [
        "data.columns"
      ],
      "metadata": {
        "colab": {
          "base_uri": "https://localhost:8080/"
        },
        "id": "KMO_Dm6neT9d",
        "outputId": "42b14de9-2954-478a-fb21-1843c103d6fe"
      },
      "execution_count": 106,
      "outputs": [
        {
          "output_type": "execute_result",
          "data": {
            "text/plain": [
              "Index(['beer_ABV', 'beer_beerId', 'beer_brewerId', 'beer_name', 'beer_style',\n",
              "       'review_appearance', 'review_palette', 'review_overall', 'review_taste',\n",
              "       'review_profileName', 'review_aroma', 'review_text', 'review_time',\n",
              "       'year'],\n",
              "      dtype='object')"
            ]
          },
          "metadata": {},
          "execution_count": 106
        }
      ]
    },
    {
      "cell_type": "code",
      "source": [
        "# Considering only relevant columns\n",
        "\n",
        "reviewTextData = data[['beer_beerId','beer_name','beer_ABV','beer_style','review_overall','review_text']]"
      ],
      "metadata": {
        "id": "k1fV_2cQecf_"
      },
      "execution_count": 107,
      "outputs": []
    },
    {
      "cell_type": "code",
      "source": [
        "# lets consider the higher reviews only to calculate the polarity score of review_text and compare it with overall review\n",
        "\n",
        "reviewTextData = reviewTextData.loc[reviewTextData['review_overall'] >= 4]"
      ],
      "metadata": {
        "id": "-zjixXfggLeh"
      },
      "execution_count": 108,
      "outputs": []
    },
    {
      "cell_type": "code",
      "source": [
        "#library to clean data\n",
        "import re\n",
        "\n",
        "#Initial text processing to deconstruct the short forms\n",
        "\n",
        "def decontracted(phrase):\n",
        "    # specific\n",
        "    phrase = re.sub(r\"won't\", \"will not\", phrase)\n",
        "    phrase = re.sub(r\"can\\'t\", \"can not\", phrase)\n",
        "\n",
        "    # general\n",
        "    phrase = re.sub(r\"n\\'t\", \" not\", phrase)\n",
        "    phrase = re.sub(r\"\\'re\", \" are\", phrase)\n",
        "    phrase = re.sub(r\"\\'s\", \" is\", phrase)\n",
        "    phrase = re.sub(r\"\\'d\", \" would\", phrase)\n",
        "    phrase = re.sub(r\"\\'ll\", \" will\", phrase)\n",
        "    phrase = re.sub(r\"\\'t\", \" not\", phrase)\n",
        "    phrase = re.sub(r\"\\'ve\", \" have\", phrase)\n",
        "    phrase = re.sub(r\"\\'m\", \" am\", phrase)\n",
        "    \n",
        "    return phrase"
      ],
      "metadata": {
        "id": "K7FLq9ARgSNi"
      },
      "execution_count": 109,
      "outputs": []
    },
    {
      "cell_type": "code",
      "source": [
        "#for loader/show percentage operation done\n",
        "from tqdm import tqdm\n",
        "tqdm.pandas()"
      ],
      "metadata": {
        "id": "NZIx7IDEglYI"
      },
      "execution_count": 110,
      "outputs": []
    },
    {
      "cell_type": "code",
      "source": [
        "#Extracting text reciews and applying text pre-processing on it.\n",
        "\n",
        "preprocessed_reviews = []\n",
        "\n",
        "for sentance in tqdm(reviewTextData['review_text'].values): # tqdm is for printing the status bar\n",
        "    sentance = decontracted(sentance) #desconstructiong the short forms\n",
        "    sentance = re.sub(\"\\S*\\d\\S*\", \"\", sentance).strip() #remove words with numbers \n",
        "    \n",
        "    preprocessed_reviews.append(sentance) #form the sentence again"
      ],
      "metadata": {
        "colab": {
          "base_uri": "https://localhost:8080/"
        },
        "id": "55HPUuK5gVuA",
        "outputId": "bd2f0eb2-dd36-45dd-d173-b2a2260c7b56"
      },
      "execution_count": 111,
      "outputs": [
        {
          "output_type": "stream",
          "name": "stderr",
          "text": [
            "100%|██████████| 324337/324337 [00:33<00:00, 9709.99it/s] \n"
          ]
        }
      ]
    },
    {
      "cell_type": "code",
      "source": [
        "#Appending preprocessed reviews to the filtered dataframe\n",
        "\n",
        "reviewTextData['preprocessed_review_text'] = preprocessed_reviews"
      ],
      "metadata": {
        "id": "69iqZpHRgugY"
      },
      "execution_count": 112,
      "outputs": []
    },
    {
      "cell_type": "code",
      "source": [
        "import nltk\n",
        "nltk.download('vader_lexicon')\n",
        "from nltk.sentiment.vader import SentimentIntensityAnalyzer"
      ],
      "metadata": {
        "colab": {
          "base_uri": "https://localhost:8080/"
        },
        "id": "8pS8sxNJkhkx",
        "outputId": "723c819f-cb20-4e0d-b26e-4338a3f5b9b8"
      },
      "execution_count": 113,
      "outputs": [
        {
          "output_type": "stream",
          "name": "stdout",
          "text": [
            "[nltk_data] Downloading package vader_lexicon to /root/nltk_data...\n",
            "[nltk_data]   Package vader_lexicon is already up-to-date!\n"
          ]
        }
      ]
    },
    {
      "cell_type": "markdown",
      "source": [
        "VADER (Valence Aware Dictionary and sEntiment Reasoner) is a lexicon and rule-based sentiment analysis tool that is specifically attuned to sentiments expressed in social media. VADER uses a combination of A sentiment lexicon is a list of lexical features (e.g., words) which are generally labeled according to their semantic orientation as either positive or negative. VADER not only tells about the Positivity and Negativity score but also tells us about how positive or negative a sentiment is."
      ],
      "metadata": {
        "id": "c40ciwE5-Cdf"
      }
    },
    {
      "cell_type": "code",
      "source": [
        "# Instantiating Sentiment Analyzer\n",
        "\n",
        "sianalyzer = SentimentIntensityAnalyzer()"
      ],
      "metadata": {
        "id": "0L-474UakT7D"
      },
      "execution_count": 114,
      "outputs": []
    },
    {
      "cell_type": "code",
      "source": [
        "#loop over the 'preprocessed_review_text' column and calculate the polarity score for each review. \n",
        "\n",
        "reviewTextData['polarity_score2'] = reviewTextData['preprocessed_review_text'].progress_apply(lambda x: sianalyzer.polarity_scores(x)['compound'])"
      ],
      "metadata": {
        "colab": {
          "base_uri": "https://localhost:8080/"
        },
        "id": "3TebysZjkqio",
        "outputId": "57dcb9bf-5e00-452d-f0ce-46c4e8199447"
      },
      "execution_count": 115,
      "outputs": [
        {
          "output_type": "stream",
          "name": "stderr",
          "text": [
            "100%|██████████| 324337/324337 [09:25<00:00, 573.86it/s]\n"
          ]
        }
      ]
    },
    {
      "cell_type": "code",
      "source": [
        "# Groupping by the 'beer_beerId' and calculate mean polarity score.\n",
        "\n",
        "reviewTextDataGroupped = reviewTextData.groupby('beer_style')['polarity_score2'].mean()\n"
      ],
      "metadata": {
        "id": "QpTW3GSOkukO"
      },
      "execution_count": 116,
      "outputs": []
    },
    {
      "cell_type": "code",
      "source": [
        "# Lets Sort the groupped data by mean polarity score\n",
        "\n",
        "reviewTextDataGroupped.sort_values(ascending=False)[0:5]\n"
      ],
      "metadata": {
        "colab": {
          "base_uri": "https://localhost:8080/"
        },
        "id": "FILId-pwk0py",
        "outputId": "9ed979ea-fa1f-44b2-dc6b-587dd289c6c7"
      },
      "execution_count": 117,
      "outputs": [
        {
          "output_type": "execute_result",
          "data": {
            "text/plain": [
              "beer_style\n",
              "Braggot                      0.924622\n",
              "Happoshu                     0.919091\n",
              "Dortmunder / Export Lager    0.907618\n",
              "Wheatwine                    0.896163\n",
              "Quadrupel (Quad)             0.891744\n",
              "Name: polarity_score2, dtype: float64"
            ]
          },
          "metadata": {},
          "execution_count": 117
        }
      ]
    },
    {
      "cell_type": "code",
      "source": [
        "# Obsering the top 'polarity_score2' and 'beer_beerId' associated with it.\n",
        "reviewTextData.loc[reviewTextData['beer_style'] == 'Braggot']\n"
      ],
      "metadata": {
        "colab": {
          "base_uri": "https://localhost:8080/",
          "height": 659
        },
        "id": "dLPCMECwk32y",
        "outputId": "4e56e152-20a9-49f3-e963-97eba640546a"
      },
      "execution_count": 118,
      "outputs": [
        {
          "output_type": "execute_result",
          "data": {
            "text/html": [
              "\n",
              "  <div id=\"df-107d9e39-aa2b-4844-8eb5-2f60658edecb\">\n",
              "    <div class=\"colab-df-container\">\n",
              "      <div>\n",
              "<style scoped>\n",
              "    .dataframe tbody tr th:only-of-type {\n",
              "        vertical-align: middle;\n",
              "    }\n",
              "\n",
              "    .dataframe tbody tr th {\n",
              "        vertical-align: top;\n",
              "    }\n",
              "\n",
              "    .dataframe thead th {\n",
              "        text-align: right;\n",
              "    }\n",
              "</style>\n",
              "<table border=\"1\" class=\"dataframe\">\n",
              "  <thead>\n",
              "    <tr style=\"text-align: right;\">\n",
              "      <th></th>\n",
              "      <th>beer_beerId</th>\n",
              "      <th>beer_name</th>\n",
              "      <th>beer_ABV</th>\n",
              "      <th>beer_style</th>\n",
              "      <th>review_overall</th>\n",
              "      <th>review_text</th>\n",
              "      <th>preprocessed_review_text</th>\n",
              "      <th>polarity_score2</th>\n",
              "    </tr>\n",
              "  </thead>\n",
              "  <tbody>\n",
              "    <tr>\n",
              "      <th>9061</th>\n",
              "      <td>5972</td>\n",
              "      <td>Luna De Miel: Raspberry Meade</td>\n",
              "      <td>7.82</td>\n",
              "      <td>Braggot</td>\n",
              "      <td>5.0</td>\n",
              "      <td>750 ml crowned bottle. I bought this with no i...</td>\n",
              "      <td>ml crowned bottle. I bought this with no idea ...</td>\n",
              "      <td>0.8906</td>\n",
              "    </tr>\n",
              "    <tr>\n",
              "      <th>468763</th>\n",
              "      <td>69407</td>\n",
              "      <td>Sixteen</td>\n",
              "      <td>10.50</td>\n",
              "      <td>Braggot</td>\n",
              "      <td>5.0</td>\n",
              "      <td>Weyerbacher Sixteen on tap at The Pony Bar, HK...</td>\n",
              "      <td>Weyerbacher Sixteen on tap at The Pony Bar, HK...</td>\n",
              "      <td>0.9974</td>\n",
              "    </tr>\n",
              "    <tr>\n",
              "      <th>468782</th>\n",
              "      <td>69407</td>\n",
              "      <td>Sixteen</td>\n",
              "      <td>10.50</td>\n",
              "      <td>Braggot</td>\n",
              "      <td>5.0</td>\n",
              "      <td>Now this is an awesome beer/mead combo!! A-Dee...</td>\n",
              "      <td>Now this is an awesome beer/mead combo!! A-Dee...</td>\n",
              "      <td>0.9821</td>\n",
              "    </tr>\n",
              "    <tr>\n",
              "      <th>259822</th>\n",
              "      <td>55238</td>\n",
              "      <td>Apico</td>\n",
              "      <td>16.30</td>\n",
              "      <td>Braggot</td>\n",
              "      <td>4.5</td>\n",
              "      <td>Kept seeing this in various beer stores but di...</td>\n",
              "      <td>Kept seeing this in various beer stores but di...</td>\n",
              "      <td>0.9770</td>\n",
              "    </tr>\n",
              "    <tr>\n",
              "      <th>468731</th>\n",
              "      <td>69407</td>\n",
              "      <td>Sixteen</td>\n",
              "      <td>10.50</td>\n",
              "      <td>Braggot</td>\n",
              "      <td>4.5</td>\n",
              "      <td>A - Dark brown with ruby accent. Smallish head...</td>\n",
              "      <td>A - Dark brown with ruby accent. Smallish head...</td>\n",
              "      <td>0.9815</td>\n",
              "    </tr>\n",
              "    <tr>\n",
              "      <th>...</th>\n",
              "      <td>...</td>\n",
              "      <td>...</td>\n",
              "      <td>...</td>\n",
              "      <td>...</td>\n",
              "      <td>...</td>\n",
              "      <td>...</td>\n",
              "      <td>...</td>\n",
              "      <td>...</td>\n",
              "    </tr>\n",
              "    <tr>\n",
              "      <th>9064</th>\n",
              "      <td>5972</td>\n",
              "      <td>Luna De Miel: Raspberry Meade</td>\n",
              "      <td>7.82</td>\n",
              "      <td>Braggot</td>\n",
              "      <td>4.0</td>\n",
              "      <td>Luna de Miel - Harmonious Honeymoon Ale - is q...</td>\n",
              "      <td>Luna de Miel - Harmonious Honeymoon Ale - is q...</td>\n",
              "      <td>0.9892</td>\n",
              "    </tr>\n",
              "    <tr>\n",
              "      <th>476482</th>\n",
              "      <td>23369</td>\n",
              "      <td>Hawaiian Honey</td>\n",
              "      <td>13.00</td>\n",
              "      <td>Braggot</td>\n",
              "      <td>4.0</td>\n",
              "      <td>Sampled on-tap at the brewpub. 90 lbs of clove...</td>\n",
              "      <td>Sampled on-tap at the brewpub.  lbs of clover ...</td>\n",
              "      <td>0.6712</td>\n",
              "    </tr>\n",
              "    <tr>\n",
              "      <th>186098</th>\n",
              "      <td>50450</td>\n",
              "      <td>Bob's Memorial Braggot</td>\n",
              "      <td>7.00</td>\n",
              "      <td>Braggot</td>\n",
              "      <td>4.0</td>\n",
              "      <td>Served in Deschuttes Brewery's stemmed Jubel 2...</td>\n",
              "      <td>Served in Deschuttes Brewery is stemmed Jubel ...</td>\n",
              "      <td>0.9433</td>\n",
              "    </tr>\n",
              "    <tr>\n",
              "      <th>186096</th>\n",
              "      <td>50450</td>\n",
              "      <td>Bob's Memorial Braggot</td>\n",
              "      <td>7.00</td>\n",
              "      <td>Braggot</td>\n",
              "      <td>4.0</td>\n",
              "      <td>This beer appears reddish brown with a small l...</td>\n",
              "      <td>This beer appears reddish brown with a small l...</td>\n",
              "      <td>0.8945</td>\n",
              "    </tr>\n",
              "    <tr>\n",
              "      <th>186099</th>\n",
              "      <td>50450</td>\n",
              "      <td>Bob's Memorial Braggot</td>\n",
              "      <td>7.00</td>\n",
              "      <td>Braggot</td>\n",
              "      <td>4.0</td>\n",
              "      <td>Bomber poured into my Delirium snifter Bob's M...</td>\n",
              "      <td>Bomber poured into my Delirium snifter Bob is ...</td>\n",
              "      <td>0.9946</td>\n",
              "    </tr>\n",
              "  </tbody>\n",
              "</table>\n",
              "<p>105 rows × 8 columns</p>\n",
              "</div>\n",
              "      <button class=\"colab-df-convert\" onclick=\"convertToInteractive('df-107d9e39-aa2b-4844-8eb5-2f60658edecb')\"\n",
              "              title=\"Convert this dataframe to an interactive table.\"\n",
              "              style=\"display:none;\">\n",
              "        \n",
              "  <svg xmlns=\"http://www.w3.org/2000/svg\" height=\"24px\"viewBox=\"0 0 24 24\"\n",
              "       width=\"24px\">\n",
              "    <path d=\"M0 0h24v24H0V0z\" fill=\"none\"/>\n",
              "    <path d=\"M18.56 5.44l.94 2.06.94-2.06 2.06-.94-2.06-.94-.94-2.06-.94 2.06-2.06.94zm-11 1L8.5 8.5l.94-2.06 2.06-.94-2.06-.94L8.5 2.5l-.94 2.06-2.06.94zm10 10l.94 2.06.94-2.06 2.06-.94-2.06-.94-.94-2.06-.94 2.06-2.06.94z\"/><path d=\"M17.41 7.96l-1.37-1.37c-.4-.4-.92-.59-1.43-.59-.52 0-1.04.2-1.43.59L10.3 9.45l-7.72 7.72c-.78.78-.78 2.05 0 2.83L4 21.41c.39.39.9.59 1.41.59.51 0 1.02-.2 1.41-.59l7.78-7.78 2.81-2.81c.8-.78.8-2.07 0-2.86zM5.41 20L4 18.59l7.72-7.72 1.47 1.35L5.41 20z\"/>\n",
              "  </svg>\n",
              "      </button>\n",
              "      \n",
              "  <style>\n",
              "    .colab-df-container {\n",
              "      display:flex;\n",
              "      flex-wrap:wrap;\n",
              "      gap: 12px;\n",
              "    }\n",
              "\n",
              "    .colab-df-convert {\n",
              "      background-color: #E8F0FE;\n",
              "      border: none;\n",
              "      border-radius: 50%;\n",
              "      cursor: pointer;\n",
              "      display: none;\n",
              "      fill: #1967D2;\n",
              "      height: 32px;\n",
              "      padding: 0 0 0 0;\n",
              "      width: 32px;\n",
              "    }\n",
              "\n",
              "    .colab-df-convert:hover {\n",
              "      background-color: #E2EBFA;\n",
              "      box-shadow: 0px 1px 2px rgba(60, 64, 67, 0.3), 0px 1px 3px 1px rgba(60, 64, 67, 0.15);\n",
              "      fill: #174EA6;\n",
              "    }\n",
              "\n",
              "    [theme=dark] .colab-df-convert {\n",
              "      background-color: #3B4455;\n",
              "      fill: #D2E3FC;\n",
              "    }\n",
              "\n",
              "    [theme=dark] .colab-df-convert:hover {\n",
              "      background-color: #434B5C;\n",
              "      box-shadow: 0px 1px 3px 1px rgba(0, 0, 0, 0.15);\n",
              "      filter: drop-shadow(0px 1px 2px rgba(0, 0, 0, 0.3));\n",
              "      fill: #FFFFFF;\n",
              "    }\n",
              "  </style>\n",
              "\n",
              "      <script>\n",
              "        const buttonEl =\n",
              "          document.querySelector('#df-107d9e39-aa2b-4844-8eb5-2f60658edecb button.colab-df-convert');\n",
              "        buttonEl.style.display =\n",
              "          google.colab.kernel.accessAllowed ? 'block' : 'none';\n",
              "\n",
              "        async function convertToInteractive(key) {\n",
              "          const element = document.querySelector('#df-107d9e39-aa2b-4844-8eb5-2f60658edecb');\n",
              "          const dataTable =\n",
              "            await google.colab.kernel.invokeFunction('convertToInteractive',\n",
              "                                                     [key], {});\n",
              "          if (!dataTable) return;\n",
              "\n",
              "          const docLinkHtml = 'Like what you see? Visit the ' +\n",
              "            '<a target=\"_blank\" href=https://colab.research.google.com/notebooks/data_table.ipynb>data table notebook</a>'\n",
              "            + ' to learn more about interactive tables.';\n",
              "          element.innerHTML = '';\n",
              "          dataTable['output_type'] = 'display_data';\n",
              "          await google.colab.output.renderOutput(dataTable, element);\n",
              "          const docLink = document.createElement('div');\n",
              "          docLink.innerHTML = docLinkHtml;\n",
              "          element.appendChild(docLink);\n",
              "        }\n",
              "      </script>\n",
              "    </div>\n",
              "  </div>\n",
              "  "
            ],
            "text/plain": [
              "        beer_beerId  ... polarity_score2\n",
              "9061           5972  ...          0.8906\n",
              "468763        69407  ...          0.9974\n",
              "468782        69407  ...          0.9821\n",
              "259822        55238  ...          0.9770\n",
              "468731        69407  ...          0.9815\n",
              "...             ...  ...             ...\n",
              "9064           5972  ...          0.9892\n",
              "476482        23369  ...          0.6712\n",
              "186098        50450  ...          0.9433\n",
              "186096        50450  ...          0.8945\n",
              "186099        50450  ...          0.9946\n",
              "\n",
              "[105 rows x 8 columns]"
            ]
          },
          "metadata": {},
          "execution_count": 118
        }
      ]
    },
    {
      "cell_type": "markdown",
      "source": [
        "By Observing the mean compund ploarity score ,  we can say that the beer style \"Braggot\" is quite most famous.\n",
        "    \n",
        "By Observing the mean compund ploarity score calculated we can get an idea how the user written review text is collaborating in calculating the overall review score."
      ],
      "metadata": {
        "id": "BXVkQzImrGtL"
      }
    },
    {
      "cell_type": "markdown",
      "source": [
        "## **7. How do find similar beer drinkers by using written reviews only?**   "
      ],
      "metadata": {
        "id": "ZCeINb6W0CWT"
      }
    },
    {
      "cell_type": "markdown",
      "source": [
        "To slove this question we can use text analysis methodology as describe below:"
      ],
      "metadata": {
        "id": "O-CbRqcRJZZD"
      }
    },
    {
      "cell_type": "markdown",
      "source": [
        "**Text Analysis Methodology**\n",
        "\n",
        "1. **Information Extraction**\n",
        "\n",
        "* This is the first step in the process of evaluating unstructured data. This first involves finding the data and cleaning it of unnecessary punctuation, typos and so on. \n",
        "* This then involves tokenization and identification of named entities (a named entity is a real-world object, such as persons, locations, organizations, product), key phrases and parts-of-speech. \n",
        "* It then uses the concept of pattern matching to find any predefined sequences existing in the data. You can then identify the relationship between entities and attributes. The endpoint is to have a database that is at least semi-structured.\n",
        "\n",
        "2. **Categorization**\n",
        "* Then we can develop an input-output principle where the system is given inputs regarding the pre-defined categories under which the data in the new documents are to be classified. \n",
        "* This is a statistical step and uses sophisticated techniques such as Nearest Neighbour classifier, Decision Tree, Naïve Bayesian classifier, and other statistical classification techniques. \n",
        "* We will end up with some categories assigned automatically to the text\n",
        "\n",
        "3. **Clustering**\n",
        "* This is again a sophisticated step where we bring together groups of documents that have similar content and generate multiple groups of documents known as clusters. \n",
        "* The content of documents in a specific cluster is similar while that of documents in different clusters should by definition be quite different. \n",
        "* This technique works on semantics – the principle on which semantic search engines work.\n",
        "\n",
        "4. **Visualization**\n",
        "* Most of the complex statistical and AI work has been done at this stage. Here we use visual cues such as text flags to indicate documents or document categories and develop other ways to identify and indicate the densities of a category, entity or phrase. \n",
        "* The user needs to have an overview as well as to be able to zoom in without losing data. If the original source was large, some kind of visual hierarchy will also need to be developed. \n",
        "\n",
        "* At this stage, we begin to integrate with existing business processes to understand how and who will need to use the knowledge developed.\n",
        "\n",
        "5. **Summarization**\n",
        "The objective here is to generate a summarized version highlighting the information that will be most relevant to the user. This in itself requires the application of algorithms to summarize text automatically with a semantic engine to ensure the meaning isn’t lost."
      ],
      "metadata": {
        "id": "qmO-VDH6H74D"
      }
    }
  ]
}